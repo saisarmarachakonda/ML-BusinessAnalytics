{
 "cells": [
  {
   "cell_type": "markdown",
   "metadata": {
    "colab_type": "text",
    "id": "l4dpd-BXeTwi"
   },
   "source": [
    "# Week 5: Python Business Analytics\n"
   ]
  },
  {
   "cell_type": "markdown",
   "metadata": {
    "colab_type": "text",
    "id": "k0apmiSLdyRM"
   },
   "source": [
    "# Predicting customer visits\n",
    "## Introduction\n",
    "We are tasked with predicting which day of the week our customers will visit again. This notebook details the steps taken to solve this problem. We get a dataset with weekly visits of ~70,000 customers. Unfortunately the structure is not ready for machine learning so a lot of data preperation needs to be done. Once the structure is fixed, we do some feature engineering. Finally, using random forests we can predict which day of week a customer will visit.\n",
    "\n",
    "## Dataset description\n",
    "Each line represents one customer - the first column contains unique customer\n",
    "identifier and the second column contains indices of the day when customer have visited the mall. The day\n",
    "with index 1 is a Monday (e. g. 7th is a Sunday, 8th is again a Monday). Indices are within a range of 1 to 1001\n",
    "(which is equal to 143 full weeks). The task is to predict the first day of the next visit (week 144). For example,\n",
    "if customer will visit mall on Wednesday, then prediction should be equal to 3:\n",
    "0. Customer will not visit on the next week\n",
    "1. Monday\n",
    "2. Tuesday\n",
    "3. Wednesday\n",
    "4. Thursday\n",
    "5. Friday\n",
    "6. Saturday\n",
    "7. Sunday\n",
    "\n",
    "## Executive Summary\n",
    "\n",
    "There are many machine learning algorithms which can be used for classification problems. I decided on using Random forests because they are easy to implement, give feature importance and can be top performers if tuned correctly.\n",
    "\n",
    "We use binary classification models to predict the visit probability for each day of week independantly. Hence, the accuracy for each model varies:\n",
    "- No visits: ~60%\n",
    "- Day 1: Monday: ~90%\n",
    "- Day 2: Tuesday: ~90%\n",
    "- Day 3: Wednesday: ~90%\n",
    "- Day 4: Thursday: ~90%\n",
    "- Day 5: Friday: ~90%\n",
    "- Day 6: Saturday: ~80%\n",
    "- Day 7: Sunday: ~80%\n",
    "\n",
    "Reporting these high classification accuracies can be misleading. For example: Our Day 1 predictions, we get around 90% accuracy because our model is predicting all values will be 0 i.e. no customers are predicted to visit on Monday. Because there are so few monday visits (in comparison to other days and no visits) this is not neccesarily a bad prediction. If our task was to predict Mondays more accurately there are other evaluation criteria we could use to force the model to predict more visits as Monday. However, I decided it would be more important to predict accurately overall and hence left these models as they are.\n",
    "\n",
    "To get our final prediction we can predict the day of week which has the highest probability for all 8 models. We could also structure this as a multi-label classification problem and try to correctly predict all visit days in the next week. This decision is dependant on how our model will be used for business applications.\n",
    "\n",
    "As I mention above, random forest give us the feature importance. For every model, the most important feature to predict the day of week was the proportion of days the customer previously visited on that day. This also makes intuitive sense, for example: If a customer has visited the mall a total of 10 times, and 9 out of the 10 times they visit on a Monday, it is reasonable to predict the next time they visit will be on Monday. \n",
    "\n",
    "The other very important feature is the proportion of no visit weeks. Again, this makes sense: If we have 2 customers - A and B - Customer A visits at least 1 day a week for 10 weeks while customer B visits only once in 10 weeks. It is reasonable to predict customer A is more likely to visit the next week compared to customer B.\n",
    "\n",
    "- Customer Dash is used to see the predictions for an individual customer (visitor_id). This helps us check whether predictions are reasonable.\n",
    "- Model Feature Dash is used to explore the relationship between the targets (day of week) and features.\n",
    "\n",
    "### Data Preperation\n",
    "\n",
    "The following steps are taken to prepare our data for machine learning:\n",
    "- Transform data from wide to long format\n",
    "- Create dummy variables for each day of week\n",
    "- Aggregate to weekly.\n",
    "- Feature engineering\n",
    "    - Total number of visits (Freq)\n",
    "    - Weeks since previous visit\n",
    "    - No visits (dow_0) \n",
    "    - Total number of visits for each day of week (tot_dow_0 - tot_dow_7)\n",
    "    - Proportion of total visits for each day of week (prop_dow_0 - prop_dow_7)\n",
    "- Shift features 1 period. Each target dummy will have features corresponding to previous week\n",
    "    \n",
    "### Modelling Approach\n",
    "\n",
    "To solve this classification problem we are going to:\n",
    "- Treat each day as a binary classification problem. This will give us the probably of a customer visiting a spesific day in a spesific week. Hence we will have 8 binary classification models (7 days of the week + 0 for no visit)\n",
    "- Use the highest predicted value for each customer and use that as the prediction for the following week\n",
    "\n",
    "### Next steps / Further Improvements\n",
    "\n",
    "Our final models are giving reasonable results. However, they are not doing well at predicting rare events. To solve this we will need to do additional feature engineering. We could try other modelling approaches. We should try to collect more metadata like rainfall on spesific days or whether it was a public holidays / promotions in the mall. \n",
    "\n",
    "Given that there are some time constraints, I didn't have enough time to try many different models or do more feature engineering. I would really like to try using deep learning to solve this classification problem. Deep learning can be really good at solving problems that require a lot of feature engineering.\n",
    "\n",
    "Now let's begin :).\n",
    "\n",
    "## Data Import and Prep\n",
    "\n",
    "First we need to import the data to see what the structure looks like\n",
    "\n",
    "### Import"
   ]
  },
  {
   "cell_type": "code",
   "execution_count": null,
   "metadata": {
    "colab": {},
    "colab_type": "code",
    "id": "yu5uTkJLdyRR"
   },
   "outputs": [],
   "source": [
    "import pandas as pd\n",
    "import numpy as np\n",
    "\n",
    "\n",
    "FILE = 'data/customer/train_set.csv'"
   ]
  },
  {
   "cell_type": "code",
   "execution_count": null,
   "metadata": {
    "colab": {},
    "colab_type": "code",
    "id": "yPcz5r-CdyRZ"
   },
   "outputs": [],
   "source": [
    "def display_all(df):\n",
    "    with pd.option_context(\"display.max_rows\", 1000, \"display.max_columns\", 1000): \n",
    "        display(df)"
   ]
  },
  {
   "cell_type": "code",
   "execution_count": 3,
   "metadata": {
    "colab": {
     "base_uri": "https://localhost:8080/",
     "height": 202
    },
    "colab_type": "code",
    "executionInfo": {
     "elapsed": 4159,
     "status": "ok",
     "timestamp": 1563846189961,
     "user": {
      "displayName": "Cloud Machine",
      "photoUrl": "",
      "userId": "03543453517966682716"
     },
     "user_tz": -60
    },
    "id": "jCTqyZjqdyRg",
    "outputId": "eb3f9a30-f111-4f61-b4ac-8e9637cbeb71"
   },
   "outputs": [
    {
     "data": {
      "text/html": [
       "<div>\n",
       "<style scoped>\n",
       "    .dataframe tbody tr th:only-of-type {\n",
       "        vertical-align: middle;\n",
       "    }\n",
       "\n",
       "    .dataframe tbody tr th {\n",
       "        vertical-align: top;\n",
       "    }\n",
       "\n",
       "    .dataframe thead th {\n",
       "        text-align: right;\n",
       "    }\n",
       "</style>\n",
       "<table border=\"1\" class=\"dataframe\">\n",
       "  <thead>\n",
       "    <tr style=\"text-align: right;\">\n",
       "      <th></th>\n",
       "      <th>visitor_id</th>\n",
       "      <th>visits</th>\n",
       "    </tr>\n",
       "  </thead>\n",
       "  <tbody>\n",
       "    <tr>\n",
       "      <th>0</th>\n",
       "      <td>1</td>\n",
       "      <td>30 84 126 135 137 179 242 342 426 456 460 462...</td>\n",
       "    </tr>\n",
       "    <tr>\n",
       "      <th>1</th>\n",
       "      <td>2</td>\n",
       "      <td>24 53 75 134 158 192 194 211 213 238 251 305 ...</td>\n",
       "    </tr>\n",
       "    <tr>\n",
       "      <th>2</th>\n",
       "      <td>3</td>\n",
       "      <td>51 143 173 257 446 491 504 510 559 616 719 73...</td>\n",
       "    </tr>\n",
       "    <tr>\n",
       "      <th>3</th>\n",
       "      <td>4</td>\n",
       "      <td>1 20 22 92 124 149 211 335 387 390 406 460 48...</td>\n",
       "    </tr>\n",
       "    <tr>\n",
       "      <th>4</th>\n",
       "      <td>5</td>\n",
       "      <td>34 51 56 106 110 121 163 233 266 275 345 359 ...</td>\n",
       "    </tr>\n",
       "  </tbody>\n",
       "</table>\n",
       "</div>"
      ],
      "text/plain": [
       "   visitor_id                                             visits\n",
       "0           1   30 84 126 135 137 179 242 342 426 456 460 462...\n",
       "1           2   24 53 75 134 158 192 194 211 213 238 251 305 ...\n",
       "2           3   51 143 173 257 446 491 504 510 559 616 719 73...\n",
       "3           4   1 20 22 92 124 149 211 335 387 390 406 460 48...\n",
       "4           5   34 51 56 106 110 121 163 233 266 275 345 359 ..."
      ]
     },
     "execution_count": 3,
     "metadata": {
      "tags": []
     },
     "output_type": "execute_result"
    }
   ],
   "source": [
    "df_raw = pd.read_csv(FILE)\n",
    "\n",
    "df_raw.head()"
   ]
  },
  {
   "cell_type": "markdown",
   "metadata": {
    "colab_type": "text",
    "id": "zRswm5gtdyRs"
   },
   "source": [
    "The visits column stores the index in a space seperated format. Before we can do any machine learning we will first need fix this. "
   ]
  },
  {
   "cell_type": "code",
   "execution_count": 4,
   "metadata": {
    "colab": {
     "base_uri": "https://localhost:8080/",
     "height": 138
    },
    "colab_type": "code",
    "executionInfo": {
     "elapsed": 4124,
     "status": "ok",
     "timestamp": 1563846189967,
     "user": {
      "displayName": "Cloud Machine",
      "photoUrl": "",
      "userId": "03543453517966682716"
     },
     "user_tz": -60
    },
    "id": "owsOIxpOdyRv",
    "outputId": "6fb35d22-791e-47ee-f05b-6ce4a4580e65"
   },
   "outputs": [
    {
     "name": "stdout",
     "output_type": "stream",
     "text": [
      "<class 'pandas.core.frame.DataFrame'>\n",
      "RangeIndex: 82957 entries, 0 to 82956\n",
      "Data columns (total 2 columns):\n",
      "visitor_id    82957 non-null int64\n",
      " visits       82957 non-null object\n",
      "dtypes: int64(1), object(1)\n",
      "memory usage: 1.3+ MB\n"
     ]
    }
   ],
   "source": [
    "df_raw.info()"
   ]
  },
  {
   "cell_type": "markdown",
   "metadata": {
    "colab_type": "text",
    "id": "hFsmgE8sdyR3"
   },
   "source": [
    "From the info statement we can see that visits is being stored as an object. We can also see there is a space before visits columns name so let's clean that. Since each row represents 1 customers we know we are working with a dataset containing 80000 customers"
   ]
  },
  {
   "cell_type": "code",
   "execution_count": null,
   "metadata": {
    "colab": {},
    "colab_type": "code",
    "id": "2oUX0YrIhh0T"
   },
   "outputs": [],
   "source": [
    "vali = 82957"
   ]
  },
  {
   "cell_type": "code",
   "execution_count": null,
   "metadata": {
    "colab": {},
    "colab_type": "code",
    "id": "UlRoL-N7dyR5"
   },
   "outputs": [],
   "source": [
    "df_raw.columns = df_raw.columns.str.strip()"
   ]
  },
  {
   "cell_type": "markdown",
   "metadata": {
    "colab_type": "text",
    "id": "6Ha-_5AcdyR-"
   },
   "source": [
    "Now we can focus on restructuring the visits to a more appropriate format."
   ]
  },
  {
   "cell_type": "code",
   "execution_count": null,
   "metadata": {
    "colab": {},
    "colab_type": "code",
    "id": "bEWzsBMfdyR_"
   },
   "outputs": [],
   "source": [
    "visits_list = (df_raw['visits']\n",
    "     .str.strip() # remove leading and trailing white splace\n",
    "     .str.split(' ') # split the visits into a python lists\n",
    ")"
   ]
  },
  {
   "cell_type": "markdown",
   "metadata": {
    "colab_type": "text",
    "id": "zTM_Y9DRdySH"
   },
   "source": [
    "Lets look at the first customer"
   ]
  },
  {
   "cell_type": "code",
   "execution_count": 7,
   "metadata": {
    "colab": {
     "base_uri": "https://localhost:8080/",
     "height": 72
    },
    "colab_type": "code",
    "executionInfo": {
     "elapsed": 5040,
     "status": "ok",
     "timestamp": 1563846190945,
     "user": {
      "displayName": "Cloud Machine",
      "photoUrl": "",
      "userId": "03543453517966682716"
     },
     "user_tz": -60
    },
    "id": "XQ7WSRVHdySI",
    "outputId": "7d36f963-abe5-4fc9-eeef-796918abf960"
   },
   "outputs": [
    {
     "name": "stdout",
     "output_type": "stream",
     "text": [
      "Number of visits: 26\n",
      "['30', '84', '126', '135', '137', '179', '242', '342', '426', '456', '460', '462', '483', '594', '600', '604', '704', '723', '744', '787', '804', '886', '924', '928', '946', '954']\n"
     ]
    }
   ],
   "source": [
    "print('Number of visits: ' + str(len(visits_list[0])))\n",
    "print(visits_list[0])"
   ]
  },
  {
   "cell_type": "markdown",
   "metadata": {
    "colab_type": "text",
    "id": "0K_Q7lUHdySQ"
   },
   "source": [
    "Although this format is better, we want to predict if and when a customer will visit. The when part is easier to answer if we have a timeseries format"
   ]
  },
  {
   "cell_type": "markdown",
   "metadata": {
    "colab_type": "text",
    "id": "ewPakzIXdySS"
   },
   "source": [
    "Let's solve the transformation for 1 customer then apply for all customer."
   ]
  },
  {
   "cell_type": "code",
   "execution_count": 8,
   "metadata": {
    "colab": {
     "base_uri": "https://localhost:8080/",
     "height": 202
    },
    "colab_type": "code",
    "executionInfo": {
     "elapsed": 5006,
     "status": "ok",
     "timestamp": 1563846190947,
     "user": {
      "displayName": "Cloud Machine",
      "photoUrl": "",
      "userId": "03543453517966682716"
     },
     "user_tz": -60
    },
    "id": "gEucuq5udyST",
    "outputId": "a55e7690-f618-4f3c-ef80-3576df232405"
   },
   "outputs": [
    {
     "data": {
      "text/html": [
       "<div>\n",
       "<style scoped>\n",
       "    .dataframe tbody tr th:only-of-type {\n",
       "        vertical-align: middle;\n",
       "    }\n",
       "\n",
       "    .dataframe tbody tr th {\n",
       "        vertical-align: top;\n",
       "    }\n",
       "\n",
       "    .dataframe thead th {\n",
       "        text-align: right;\n",
       "    }\n",
       "</style>\n",
       "<table border=\"1\" class=\"dataframe\">\n",
       "  <thead>\n",
       "    <tr style=\"text-align: right;\">\n",
       "      <th></th>\n",
       "      <th>visitor_id</th>\n",
       "      <th>visit_day</th>\n",
       "    </tr>\n",
       "  </thead>\n",
       "  <tbody>\n",
       "    <tr>\n",
       "      <th>0</th>\n",
       "      <td>1</td>\n",
       "      <td>30</td>\n",
       "    </tr>\n",
       "    <tr>\n",
       "      <th>1</th>\n",
       "      <td>1</td>\n",
       "      <td>84</td>\n",
       "    </tr>\n",
       "    <tr>\n",
       "      <th>2</th>\n",
       "      <td>1</td>\n",
       "      <td>126</td>\n",
       "    </tr>\n",
       "    <tr>\n",
       "      <th>3</th>\n",
       "      <td>1</td>\n",
       "      <td>135</td>\n",
       "    </tr>\n",
       "    <tr>\n",
       "      <th>4</th>\n",
       "      <td>1</td>\n",
       "      <td>137</td>\n",
       "    </tr>\n",
       "  </tbody>\n",
       "</table>\n",
       "</div>"
      ],
      "text/plain": [
       "   visitor_id visit_day\n",
       "0           1        30\n",
       "1           1        84\n",
       "2           1       126\n",
       "3           1       135\n",
       "4           1       137"
      ]
     },
     "execution_count": 8,
     "metadata": {
      "tags": []
     },
     "output_type": "execute_result"
    }
   ],
   "source": [
    "c1 = pd.DataFrame({'visitor_id': df_raw['visitor_id'][0], \n",
    "                   'visit_day' : visits_list[0]})\n",
    "\n",
    "c1.head()"
   ]
  },
  {
   "cell_type": "markdown",
   "metadata": {
    "colab_type": "text",
    "id": "SKVscf6tdySa"
   },
   "source": [
    "This works so we can now apply it for the other 80000 customers. I will try a loop first"
   ]
  },
  {
   "cell_type": "code",
   "execution_count": 9,
   "metadata": {
    "colab": {
     "base_uri": "https://localhost:8080/",
     "height": 52
    },
    "colab_type": "code",
    "executionInfo": {
     "elapsed": 24178,
     "status": "ok",
     "timestamp": 1563846210164,
     "user": {
      "displayName": "Cloud Machine",
      "photoUrl": "",
      "userId": "03543453517966682716"
     },
     "user_tz": -60
    },
    "id": "jFrYNs7DdySc",
    "outputId": "9e89d6c9-5d02-4e5b-fadb-032c7d5e0031"
   },
   "outputs": [
    {
     "name": "stdout",
     "output_type": "stream",
     "text": [
      "CPU times: user 18.4 s, sys: 769 ms, total: 19.2 s\n",
      "Wall time: 19.2 s\n"
     ]
    }
   ],
   "source": [
    "%%time\n",
    "df_clean = pd.DataFrame(columns=['visitor_id', 'visit_day'])\n",
    "for i in range(0,3000):\n",
    "    c = pd.DataFrame({'visitor_id': df_raw['visitor_id'][i], \n",
    "                   'visit_day' : visits_list[i]})\n",
    "    df_clean = df_clean.append(c, ignore_index = True)"
   ]
  },
  {
   "cell_type": "markdown",
   "metadata": {
    "colab_type": "text",
    "id": "uqscSVtzdySj"
   },
   "source": [
    " I'm too impatient to wait that long so lets try to optimimize"
   ]
  },
  {
   "cell_type": "markdown",
   "metadata": {
    "colab_type": "text",
    "id": "RnhcRM6FdySl"
   },
   "source": [
    "We will start again from where we split the visits column. This time we will use expand = True to make a dataframe"
   ]
  },
  {
   "cell_type": "code",
   "execution_count": 10,
   "metadata": {
    "colab": {
     "base_uri": "https://localhost:8080/",
     "height": 34
    },
    "colab_type": "code",
    "executionInfo": {
     "elapsed": 27395,
     "status": "ok",
     "timestamp": 1563846213414,
     "user": {
      "displayName": "Cloud Machine",
      "photoUrl": "",
      "userId": "03543453517966682716"
     },
     "user_tz": -60
    },
    "id": "GGVThzOydySn",
    "outputId": "0860d8ea-4c5b-4eec-e1fe-72ec44382e4d"
   },
   "outputs": [
    {
     "data": {
      "text/plain": [
       "82957"
      ]
     },
     "execution_count": 10,
     "metadata": {
      "tags": []
     },
     "output_type": "execute_result"
    }
   ],
   "source": [
    "visits_df = (df_raw['visits']\n",
    "     .str.strip() # remove leading and trailing white splace\n",
    "     .str.split(' ', expand = True) # split the visits into a python lists\n",
    "    \n",
    ")\n",
    "len(visits_df)"
   ]
  },
  {
   "cell_type": "markdown",
   "metadata": {
    "colab_type": "text",
    "id": "zVsFCLXjdySv"
   },
   "source": [
    "Since our index has stayed the same we can merge this data to the original data"
   ]
  },
  {
   "cell_type": "code",
   "execution_count": 11,
   "metadata": {
    "colab": {
     "base_uri": "https://localhost:8080/",
     "height": 52
    },
    "colab_type": "code",
    "executionInfo": {
     "elapsed": 33054,
     "status": "ok",
     "timestamp": 1563846219126,
     "user": {
      "displayName": "Cloud Machine",
      "photoUrl": "",
      "userId": "03543453517966682716"
     },
     "user_tz": -60
    },
    "id": "SBRHZa4CdySw",
    "outputId": "26dcf189-1435-412f-a101-a01edb41966c"
   },
   "outputs": [
    {
     "name": "stdout",
     "output_type": "stream",
     "text": [
      "CPU times: user 5.34 s, sys: 315 ms, total: 5.65 s\n",
      "Wall time: 5.67 s\n"
     ]
    }
   ],
   "source": [
    "%%time\n",
    "df_raw1 = (df_raw.merge(visits_df, right_index = True, left_index = True) # merge the original data with the expanded visits\n",
    "                .drop(['visits'], axis=1) # drop the origil visits columns\n",
    "                .melt(id_vars = ['visitor_id'], value_name = \"visit_day\") # transform from wide format to long format\n",
    "                .drop(\"variable\", axis = 1) # drop variable column which was added by melt function\n",
    "                .dropna() # drop the missing entries\n",
    "            )"
   ]
  },
  {
   "cell_type": "markdown",
   "metadata": {
    "colab_type": "text",
    "id": "USISxudSdyS4"
   },
   "source": [
    "Much better, we transformed all 80000 customers in under 1 min instead of waiting 50 min"
   ]
  },
  {
   "cell_type": "code",
   "execution_count": 12,
   "metadata": {
    "colab": {
     "base_uri": "https://localhost:8080/",
     "height": 34
    },
    "colab_type": "code",
    "executionInfo": {
     "elapsed": 33015,
     "status": "ok",
     "timestamp": 1563846219131,
     "user": {
      "displayName": "Cloud Machine",
      "photoUrl": "",
      "userId": "03543453517966682716"
     },
     "user_tz": -60
    },
    "id": "Up7MDbModyS6",
    "outputId": "59605788-df87-4919-a42c-3c6e418a53c3"
   },
   "outputs": [
    {
     "data": {
      "text/plain": [
       "26"
      ]
     },
     "execution_count": 12,
     "metadata": {
      "tags": []
     },
     "output_type": "execute_result"
    }
   ],
   "source": [
    "len(df_raw1.loc[df_raw1['visitor_id'] == 1])"
   ]
  },
  {
   "cell_type": "code",
   "execution_count": 13,
   "metadata": {
    "colab": {
     "base_uri": "https://localhost:8080/",
     "height": 202
    },
    "colab_type": "code",
    "executionInfo": {
     "elapsed": 32988,
     "status": "ok",
     "timestamp": 1563846219134,
     "user": {
      "displayName": "Cloud Machine",
      "photoUrl": "",
      "userId": "03543453517966682716"
     },
     "user_tz": -60
    },
    "id": "i5UvxHqddyTJ",
    "outputId": "87dd9f1f-5171-43c2-a3db-32d2f1266e83"
   },
   "outputs": [
    {
     "data": {
      "text/html": [
       "<div>\n",
       "<style scoped>\n",
       "    .dataframe tbody tr th:only-of-type {\n",
       "        vertical-align: middle;\n",
       "    }\n",
       "\n",
       "    .dataframe tbody tr th {\n",
       "        vertical-align: top;\n",
       "    }\n",
       "\n",
       "    .dataframe thead th {\n",
       "        text-align: right;\n",
       "    }\n",
       "</style>\n",
       "<table border=\"1\" class=\"dataframe\">\n",
       "  <thead>\n",
       "    <tr style=\"text-align: right;\">\n",
       "      <th></th>\n",
       "      <th>visitor_id</th>\n",
       "      <th>visit_day</th>\n",
       "    </tr>\n",
       "  </thead>\n",
       "  <tbody>\n",
       "    <tr>\n",
       "      <th>0</th>\n",
       "      <td>1</td>\n",
       "      <td>30</td>\n",
       "    </tr>\n",
       "    <tr>\n",
       "      <th>82957</th>\n",
       "      <td>1</td>\n",
       "      <td>84</td>\n",
       "    </tr>\n",
       "    <tr>\n",
       "      <th>165914</th>\n",
       "      <td>1</td>\n",
       "      <td>126</td>\n",
       "    </tr>\n",
       "    <tr>\n",
       "      <th>248871</th>\n",
       "      <td>1</td>\n",
       "      <td>135</td>\n",
       "    </tr>\n",
       "    <tr>\n",
       "      <th>331828</th>\n",
       "      <td>1</td>\n",
       "      <td>137</td>\n",
       "    </tr>\n",
       "  </tbody>\n",
       "</table>\n",
       "</div>"
      ],
      "text/plain": [
       "        visitor_id visit_day\n",
       "0                1        30\n",
       "82957            1        84\n",
       "165914           1       126\n",
       "248871           1       135\n",
       "331828           1       137"
      ]
     },
     "execution_count": 13,
     "metadata": {
      "tags": []
     },
     "output_type": "execute_result"
    }
   ],
   "source": [
    "df_raw1.loc[df_raw1['visitor_id'] == 1].head()"
   ]
  },
  {
   "cell_type": "markdown",
   "metadata": {
    "colab_type": "text",
    "id": "QlNyHNgOdyTW"
   },
   "source": [
    "Great, we have the same entries as the original data but now in long format."
   ]
  },
  {
   "cell_type": "code",
   "execution_count": 14,
   "metadata": {
    "colab": {
     "base_uri": "https://localhost:8080/",
     "height": 138
    },
    "colab_type": "code",
    "executionInfo": {
     "elapsed": 32944,
     "status": "ok",
     "timestamp": 1563846219137,
     "user": {
      "displayName": "Cloud Machine",
      "photoUrl": "",
      "userId": "03543453517966682716"
     },
     "user_tz": -60
    },
    "id": "xZa3CSBcdyTY",
    "outputId": "a8aae4bf-ef29-4674-8f07-6e1525623a74"
   },
   "outputs": [
    {
     "name": "stdout",
     "output_type": "stream",
     "text": [
      "<class 'pandas.core.frame.DataFrame'>\n",
      "Int64Index: 5674156 entries, 0 to 8536964\n",
      "Data columns (total 2 columns):\n",
      "visitor_id    int64\n",
      "visit_day     object\n",
      "dtypes: int64(1), object(1)\n",
      "memory usage: 129.9+ MB\n"
     ]
    }
   ],
   "source": [
    "df_raw1.info()"
   ]
  },
  {
   "cell_type": "markdown",
   "metadata": {
    "colab_type": "text",
    "id": "1dHxTY6ydyTj"
   },
   "source": [
    "visit_day is stored as object but it contains integer values so lets convert them"
   ]
  },
  {
   "cell_type": "code",
   "execution_count": null,
   "metadata": {
    "colab": {},
    "colab_type": "code",
    "id": "fIjtZkv8dyTp"
   },
   "outputs": [],
   "source": [
    "df_raw1['visit_day'] = df_raw1['visit_day'].astype('int')"
   ]
  },
  {
   "cell_type": "code",
   "execution_count": 16,
   "metadata": {
    "colab": {
     "base_uri": "https://localhost:8080/",
     "height": 138
    },
    "colab_type": "code",
    "executionInfo": {
     "elapsed": 34562,
     "status": "ok",
     "timestamp": 1563846220820,
     "user": {
      "displayName": "Cloud Machine",
      "photoUrl": "",
      "userId": "03543453517966682716"
     },
     "user_tz": -60
    },
    "id": "GWggPimrdyTy",
    "outputId": "ecb57c0b-709c-417f-ed6a-6e89c0f061cd"
   },
   "outputs": [
    {
     "name": "stdout",
     "output_type": "stream",
     "text": [
      "<class 'pandas.core.frame.DataFrame'>\n",
      "Int64Index: 5674156 entries, 0 to 8536964\n",
      "Data columns (total 2 columns):\n",
      "visitor_id    int64\n",
      "visit_day     int64\n",
      "dtypes: int64(2)\n",
      "memory usage: 129.9 MB\n"
     ]
    }
   ],
   "source": [
    "df_raw1.info()"
   ]
  },
  {
   "cell_type": "markdown",
   "metadata": {
    "colab_type": "text",
    "id": "TyjrmcbhdyT7"
   },
   "source": [
    "Now that our raw data is in an appropriate format we can sort and reset index"
   ]
  },
  {
   "cell_type": "code",
   "execution_count": null,
   "metadata": {
    "colab": {},
    "colab_type": "code",
    "id": "bfa41fmbdyT9"
   },
   "outputs": [],
   "source": [
    "df_raw1 = (df_raw1.sort_values(['visitor_id', 'visit_day'])\n",
    "                .reset_index(drop = True) # drop the old index\n",
    "          )"
   ]
  },
  {
   "cell_type": "code",
   "execution_count": 18,
   "metadata": {
    "colab": {
     "base_uri": "https://localhost:8080/",
     "height": 202
    },
    "colab_type": "code",
    "executionInfo": {
     "elapsed": 37753,
     "status": "ok",
     "timestamp": 1563846224058,
     "user": {
      "displayName": "Cloud Machine",
      "photoUrl": "",
      "userId": "03543453517966682716"
     },
     "user_tz": -60
    },
    "id": "eIF-g-2-dyUC",
    "outputId": "d708f55d-5429-4d8b-e9de-11a8a3f3c856"
   },
   "outputs": [
    {
     "data": {
      "text/html": [
       "<div>\n",
       "<style scoped>\n",
       "    .dataframe tbody tr th:only-of-type {\n",
       "        vertical-align: middle;\n",
       "    }\n",
       "\n",
       "    .dataframe tbody tr th {\n",
       "        vertical-align: top;\n",
       "    }\n",
       "\n",
       "    .dataframe thead th {\n",
       "        text-align: right;\n",
       "    }\n",
       "</style>\n",
       "<table border=\"1\" class=\"dataframe\">\n",
       "  <thead>\n",
       "    <tr style=\"text-align: right;\">\n",
       "      <th></th>\n",
       "      <th>visitor_id</th>\n",
       "      <th>visit_day</th>\n",
       "    </tr>\n",
       "  </thead>\n",
       "  <tbody>\n",
       "    <tr>\n",
       "      <th>0</th>\n",
       "      <td>1</td>\n",
       "      <td>30</td>\n",
       "    </tr>\n",
       "    <tr>\n",
       "      <th>1</th>\n",
       "      <td>1</td>\n",
       "      <td>84</td>\n",
       "    </tr>\n",
       "    <tr>\n",
       "      <th>2</th>\n",
       "      <td>1</td>\n",
       "      <td>126</td>\n",
       "    </tr>\n",
       "    <tr>\n",
       "      <th>3</th>\n",
       "      <td>1</td>\n",
       "      <td>135</td>\n",
       "    </tr>\n",
       "    <tr>\n",
       "      <th>4</th>\n",
       "      <td>1</td>\n",
       "      <td>137</td>\n",
       "    </tr>\n",
       "  </tbody>\n",
       "</table>\n",
       "</div>"
      ],
      "text/plain": [
       "   visitor_id  visit_day\n",
       "0           1         30\n",
       "1           1         84\n",
       "2           1        126\n",
       "3           1        135\n",
       "4           1        137"
      ]
     },
     "execution_count": 18,
     "metadata": {
      "tags": []
     },
     "output_type": "execute_result"
    }
   ],
   "source": [
    "df_raw1.head()"
   ]
  },
  {
   "cell_type": "markdown",
   "metadata": {
    "colab_type": "text",
    "id": "Hc1sqF7KdyUL"
   },
   "source": [
    "We can store this raw data into a feather file. That way if anything goes wrong we can start again from here. Think of it as a checkpoint."
   ]
  },
  {
   "cell_type": "code",
   "execution_count": null,
   "metadata": {
    "colab": {},
    "colab_type": "code",
    "id": "oc424EgAdyUM"
   },
   "outputs": [],
   "source": [
    "df_raw1.to_feather('df_raw')"
   ]
  },
  {
   "cell_type": "markdown",
   "metadata": {
    "colab_type": "text",
    "id": "-Mdr-2HAdyUS"
   },
   "source": [
    "Delete all the unused object from memory. My laptop only has 16 GB of memory so we will need to be memory efficient throughout"
   ]
  },
  {
   "cell_type": "code",
   "execution_count": null,
   "metadata": {
    "colab": {},
    "colab_type": "code",
    "id": "0iAZPXm_dyUT"
   },
   "outputs": [],
   "source": [
    "del visits_df \n",
    "del visits_list\n",
    "del df_raw\n",
    "del df_raw1"
   ]
  },
  {
   "cell_type": "markdown",
   "metadata": {
    "colab_type": "text",
    "id": "fJc6d0SmdyUY"
   },
   "source": [
    "Now the data is in a more analytics friendly format. Next, we can start doing some Exploratory Data Analytics (EDA) & feature engineering.\n",
    "\n",
    "## EDA"
   ]
  },
  {
   "cell_type": "code",
   "execution_count": null,
   "metadata": {
    "colab": {},
    "colab_type": "code",
    "id": "pEJIEMQ2dyUa"
   },
   "outputs": [],
   "source": [
    "df = pd.read_feather('df_raw')"
   ]
  },
  {
   "cell_type": "markdown",
   "metadata": {
    "colab_type": "text",
    "id": "yygm12bVdyUg"
   },
   "source": [
    "Convert the types to reduce memory usage"
   ]
  },
  {
   "cell_type": "code",
   "execution_count": null,
   "metadata": {
    "colab": {},
    "colab_type": "code",
    "id": "kMhUAumHdyUk"
   },
   "outputs": [],
   "source": [
    "df['visitor_id'] = df['visitor_id'].astype(np.uint32)\n",
    "df['visit_day'] = df['visit_day'].astype(np.uint32)"
   ]
  },
  {
   "cell_type": "code",
   "execution_count": 25,
   "metadata": {
    "colab": {
     "base_uri": "https://localhost:8080/",
     "height": 138
    },
    "colab_type": "code",
    "executionInfo": {
     "elapsed": 4969,
     "status": "ok",
     "timestamp": 1563846336906,
     "user": {
      "displayName": "Cloud Machine",
      "photoUrl": "",
      "userId": "03543453517966682716"
     },
     "user_tz": -60
    },
    "id": "mZG4TuLqdyUp",
    "outputId": "ecefad07-a4b8-478b-c4e0-8eb07b71663b"
   },
   "outputs": [
    {
     "name": "stdout",
     "output_type": "stream",
     "text": [
      "<class 'pandas.core.frame.DataFrame'>\n",
      "RangeIndex: 5674156 entries, 0 to 5674155\n",
      "Data columns (total 2 columns):\n",
      "visitor_id    uint32\n",
      "visit_day     uint32\n",
      "dtypes: uint32(2)\n",
      "memory usage: 43.3 MB\n"
     ]
    }
   ],
   "source": [
    "df.info()"
   ]
  },
  {
   "cell_type": "code",
   "execution_count": 26,
   "metadata": {
    "colab": {
     "base_uri": "https://localhost:8080/",
     "height": 361
    },
    "colab_type": "code",
    "executionInfo": {
     "elapsed": 7242,
     "status": "ok",
     "timestamp": 1563846339219,
     "user": {
      "displayName": "Cloud Machine",
      "photoUrl": "",
      "userId": "03543453517966682716"
     },
     "user_tz": -60
    },
    "id": "qvyhKrAPdyUw",
    "outputId": "b1e42849-eb7f-4d75-97c0-a6b4b2062266"
   },
   "outputs": [
    {
     "data": {
      "text/plain": [
       "<matplotlib.axes._subplots.AxesSubplot at 0x7fc010598ac8>"
      ]
     },
     "execution_count": 26,
     "metadata": {
      "tags": []
     },
     "output_type": "execute_result"
    },
    {
     "data": {
      "image/png": "[encoded data removed]",
      "text/plain": [
       "<Figure size 1296x360 with 1 Axes>"
      ]
     },
     "metadata": {
      "tags": []
     },
     "output_type": "display_data"
    }
   ],
   "source": [
    "%matplotlib inline\n",
    "df['visit_day'].hist(bins = 1001, figsize=(18, 5))"
   ]
  },
  {
   "cell_type": "markdown",
   "metadata": {
    "colab_type": "text",
    "id": "xMVb8YtkdyU4"
   },
   "source": [
    "We can see there is seasonality in this timeseries. This is likely weekends. Lets explore that theory by adding the day of week to the dataset"
   ]
  },
  {
   "cell_type": "code",
   "execution_count": null,
   "metadata": {
    "colab": {},
    "colab_type": "code",
    "id": "0I7uWeGddyU5"
   },
   "outputs": [],
   "source": [
    "def add_day_of_week(index): \n",
    "    return (index) % 7"
   ]
  },
  {
   "cell_type": "code",
   "execution_count": 28,
   "metadata": {
    "colab": {
     "base_uri": "https://localhost:8080/",
     "height": 202
    },
    "colab_type": "code",
    "executionInfo": {
     "elapsed": 7194,
     "status": "ok",
     "timestamp": 1563846339256,
     "user": {
      "displayName": "Cloud Machine",
      "photoUrl": "",
      "userId": "03543453517966682716"
     },
     "user_tz": -60
    },
    "id": "EoVwU4yhdyU-",
    "outputId": "907f288f-a993-4c22-e7bf-95778599d228"
   },
   "outputs": [
    {
     "data": {
      "text/html": [
       "<div>\n",
       "<style scoped>\n",
       "    .dataframe tbody tr th:only-of-type {\n",
       "        vertical-align: middle;\n",
       "    }\n",
       "\n",
       "    .dataframe tbody tr th {\n",
       "        vertical-align: top;\n",
       "    }\n",
       "\n",
       "    .dataframe thead th {\n",
       "        text-align: right;\n",
       "    }\n",
       "</style>\n",
       "<table border=\"1\" class=\"dataframe\">\n",
       "  <thead>\n",
       "    <tr style=\"text-align: right;\">\n",
       "      <th></th>\n",
       "      <th>visitor_id</th>\n",
       "      <th>visit_day</th>\n",
       "    </tr>\n",
       "  </thead>\n",
       "  <tbody>\n",
       "    <tr>\n",
       "      <th>81</th>\n",
       "      <td>4</td>\n",
       "      <td>1</td>\n",
       "    </tr>\n",
       "    <tr>\n",
       "      <th>82</th>\n",
       "      <td>4</td>\n",
       "      <td>20</td>\n",
       "    </tr>\n",
       "    <tr>\n",
       "      <th>83</th>\n",
       "      <td>4</td>\n",
       "      <td>22</td>\n",
       "    </tr>\n",
       "    <tr>\n",
       "      <th>84</th>\n",
       "      <td>4</td>\n",
       "      <td>92</td>\n",
       "    </tr>\n",
       "    <tr>\n",
       "      <th>85</th>\n",
       "      <td>4</td>\n",
       "      <td>124</td>\n",
       "    </tr>\n",
       "  </tbody>\n",
       "</table>\n",
       "</div>"
      ],
      "text/plain": [
       "    visitor_id  visit_day\n",
       "81           4          1\n",
       "82           4         20\n",
       "83           4         22\n",
       "84           4         92\n",
       "85           4        124"
      ]
     },
     "execution_count": 28,
     "metadata": {
      "tags": []
     },
     "output_type": "execute_result"
    }
   ],
   "source": [
    "df.loc[df['visitor_id'] == 4].head() # Visitor 4 visited the first day so we can validate whether day_of_week = 1 (Monday)"
   ]
  },
  {
   "cell_type": "code",
   "execution_count": null,
   "metadata": {
    "colab": {},
    "colab_type": "code",
    "id": "m5Lclhq7dyVK"
   },
   "outputs": [],
   "source": [
    "df['day_of_week'] = df['visit_day'].apply(add_day_of_week) # add new column for day of week"
   ]
  },
  {
   "cell_type": "code",
   "execution_count": null,
   "metadata": {
    "colab": {},
    "colab_type": "code",
    "id": "GGX5q6exdyVO"
   },
   "outputs": [],
   "source": [
    "df.loc[df['day_of_week'] == 0, 'day_of_week'] = 7 # set all the 0's to 7 (Sunday)\n",
    "df['day_of_week'] = df['day_of_week'].astype(np.uint8) # convert to uint8 to save memory"
   ]
  },
  {
   "cell_type": "code",
   "execution_count": 31,
   "metadata": {
    "colab": {
     "base_uri": "https://localhost:8080/",
     "height": 202
    },
    "colab_type": "code",
    "executionInfo": {
     "elapsed": 9412,
     "status": "ok",
     "timestamp": 1563846341578,
     "user": {
      "displayName": "Cloud Machine",
      "photoUrl": "",
      "userId": "03543453517966682716"
     },
     "user_tz": -60
    },
    "id": "QdxgojDVdyVR",
    "outputId": "a4c136b0-1225-439d-eb9d-76ec121d8c66"
   },
   "outputs": [
    {
     "data": {
      "text/html": [
       "<div>\n",
       "<style scoped>\n",
       "    .dataframe tbody tr th:only-of-type {\n",
       "        vertical-align: middle;\n",
       "    }\n",
       "\n",
       "    .dataframe tbody tr th {\n",
       "        vertical-align: top;\n",
       "    }\n",
       "\n",
       "    .dataframe thead th {\n",
       "        text-align: right;\n",
       "    }\n",
       "</style>\n",
       "<table border=\"1\" class=\"dataframe\">\n",
       "  <thead>\n",
       "    <tr style=\"text-align: right;\">\n",
       "      <th></th>\n",
       "      <th>visitor_id</th>\n",
       "      <th>visit_day</th>\n",
       "      <th>day_of_week</th>\n",
       "    </tr>\n",
       "  </thead>\n",
       "  <tbody>\n",
       "    <tr>\n",
       "      <th>81</th>\n",
       "      <td>4</td>\n",
       "      <td>1</td>\n",
       "      <td>1</td>\n",
       "    </tr>\n",
       "    <tr>\n",
       "      <th>82</th>\n",
       "      <td>4</td>\n",
       "      <td>20</td>\n",
       "      <td>6</td>\n",
       "    </tr>\n",
       "    <tr>\n",
       "      <th>83</th>\n",
       "      <td>4</td>\n",
       "      <td>22</td>\n",
       "      <td>1</td>\n",
       "    </tr>\n",
       "    <tr>\n",
       "      <th>84</th>\n",
       "      <td>4</td>\n",
       "      <td>92</td>\n",
       "      <td>1</td>\n",
       "    </tr>\n",
       "    <tr>\n",
       "      <th>85</th>\n",
       "      <td>4</td>\n",
       "      <td>124</td>\n",
       "      <td>5</td>\n",
       "    </tr>\n",
       "  </tbody>\n",
       "</table>\n",
       "</div>"
      ],
      "text/plain": [
       "    visitor_id  visit_day  day_of_week\n",
       "81           4          1            1\n",
       "82           4         20            6\n",
       "83           4         22            1\n",
       "84           4         92            1\n",
       "85           4        124            5"
      ]
     },
     "execution_count": 31,
     "metadata": {
      "tags": []
     },
     "output_type": "execute_result"
    }
   ],
   "source": [
    "df.loc[df['visitor_id'] == 4].head()"
   ]
  },
  {
   "cell_type": "code",
   "execution_count": 32,
   "metadata": {
    "colab": {
     "base_uri": "https://localhost:8080/",
     "height": 156
    },
    "colab_type": "code",
    "executionInfo": {
     "elapsed": 9525,
     "status": "ok",
     "timestamp": 1563846341729,
     "user": {
      "displayName": "Cloud Machine",
      "photoUrl": "",
      "userId": "03543453517966682716"
     },
     "user_tz": -60
    },
    "id": "CDqyjxANdyVX",
    "outputId": "1c54c65a-a418-4aa6-bd51-da238b06b616"
   },
   "outputs": [
    {
     "data": {
      "text/plain": [
       "7    1032700\n",
       "6     944284\n",
       "2     792329\n",
       "1     791703\n",
       "3     749254\n",
       "5     698799\n",
       "4     665087\n",
       "Name: day_of_week, dtype: int64"
      ]
     },
     "execution_count": 32,
     "metadata": {
      "tags": []
     },
     "output_type": "execute_result"
    }
   ],
   "source": [
    "df['day_of_week'].value_counts()"
   ]
  },
  {
   "cell_type": "markdown",
   "metadata": {
    "colab_type": "text",
    "id": "qPodDx7TdyVg"
   },
   "source": [
    "It seems that our hypothesis was correct and that the weekends (6 & 7) are the most popular days to visit the mall"
   ]
  },
  {
   "cell_type": "markdown",
   "metadata": {
    "colab_type": "text",
    "id": "b6f6YqoAdyVi"
   },
   "source": [
    "Next we create week_number"
   ]
  },
  {
   "cell_type": "code",
   "execution_count": null,
   "metadata": {
    "colab": {},
    "colab_type": "code",
    "id": "qqVmCD8tdyVj"
   },
   "outputs": [],
   "source": [
    "df['week_number'] = (np.floor((df['visit_day']-1) / 7) + 1).astype(np.uint32) # Through some trail and error I found this works"
   ]
  },
  {
   "cell_type": "code",
   "execution_count": 34,
   "metadata": {
    "colab": {
     "base_uri": "https://localhost:8080/",
     "height": 173
    },
    "colab_type": "code",
    "executionInfo": {
     "elapsed": 9657,
     "status": "ok",
     "timestamp": 1563846341933,
     "user": {
      "displayName": "Cloud Machine",
      "photoUrl": "",
      "userId": "03543453517966682716"
     },
     "user_tz": -60
    },
    "id": "jAGqSwtGdyVn",
    "outputId": "325c14b6-823d-4489-ff64-746838a515bb"
   },
   "outputs": [
    {
     "name": "stdout",
     "output_type": "stream",
     "text": [
      "<class 'pandas.core.frame.DataFrame'>\n",
      "RangeIndex: 5674156 entries, 0 to 5674155\n",
      "Data columns (total 4 columns):\n",
      "visitor_id     uint32\n",
      "visit_day      uint32\n",
      "day_of_week    uint8\n",
      "week_number    uint32\n",
      "dtypes: uint32(3), uint8(1)\n",
      "memory usage: 70.3 MB\n"
     ]
    }
   ],
   "source": [
    "df.info()"
   ]
  },
  {
   "cell_type": "markdown",
   "metadata": {
    "colab_type": "text",
    "id": "qAfCs-q9dyVw"
   },
   "source": [
    "Export to feather to use later"
   ]
  },
  {
   "cell_type": "code",
   "execution_count": null,
   "metadata": {
    "colab": {},
    "colab_type": "code",
    "id": "dlg1UqzqdyV0"
   },
   "outputs": [],
   "source": [
    "df.to_feather('df')"
   ]
  },
  {
   "cell_type": "markdown",
   "metadata": {
    "colab_type": "text",
    "id": "Y-a-PBGNdyV4"
   },
   "source": [
    "## Approach\n",
    "\n",
    "To solve this classification problem we are going to:\n",
    "- Create dummy variables for each day of week\n",
    "- Aggregate this time series to weekly. We want to predict the next week.\n",
    "- Do feature engineering\n",
    "- Treat each day as a binary classification problem. This will give us the probably of a customer visiting a spesific day in a spesific week. Hence we will have 8 binary classification models (7 days of the week + 0 for no visit)\n",
    "- Use the highest predicted value for each customer and use that as the prediction for the following week"
   ]
  },
  {
   "cell_type": "markdown",
   "metadata": {
    "colab_type": "text",
    "id": "VRHw8iQZdyV9"
   },
   "source": [
    "### Get dummy variables"
   ]
  },
  {
   "cell_type": "code",
   "execution_count": null,
   "metadata": {
    "colab": {},
    "colab_type": "code",
    "id": "kMDORgOEdyWJ"
   },
   "outputs": [],
   "source": [
    "df = pd.read_feather('df')"
   ]
  },
  {
   "cell_type": "code",
   "execution_count": null,
   "metadata": {
    "colab": {},
    "colab_type": "code",
    "id": "DMj9Q8j3dyWS"
   },
   "outputs": [],
   "source": [
    "dow_dummies = pd.get_dummies(df['day_of_week'], prefix='dow')"
   ]
  },
  {
   "cell_type": "markdown",
   "metadata": {
    "colab_type": "text",
    "id": "-Su7JeHldyWY"
   },
   "source": [
    "Now we join back dummies to original data"
   ]
  },
  {
   "cell_type": "code",
   "execution_count": null,
   "metadata": {
    "colab": {},
    "colab_type": "code",
    "id": "qCY739yidyWd"
   },
   "outputs": [],
   "source": [
    "df = df.merge(dow_dummies, left_index = True, right_index = True)"
   ]
  },
  {
   "cell_type": "code",
   "execution_count": 39,
   "metadata": {
    "colab": {
     "base_uri": "https://localhost:8080/",
     "height": 202
    },
    "colab_type": "code",
    "executionInfo": {
     "elapsed": 10250,
     "status": "ok",
     "timestamp": 1563846342700,
     "user": {
      "displayName": "Cloud Machine",
      "photoUrl": "",
      "userId": "03543453517966682716"
     },
     "user_tz": -60
    },
    "id": "I7mJE_AAdyWi",
    "outputId": "1c24e391-7304-42d0-b0f0-9daa2120dd2a"
   },
   "outputs": [
    {
     "data": {
      "text/html": [
       "<div>\n",
       "<style scoped>\n",
       "    .dataframe tbody tr th:only-of-type {\n",
       "        vertical-align: middle;\n",
       "    }\n",
       "\n",
       "    .dataframe tbody tr th {\n",
       "        vertical-align: top;\n",
       "    }\n",
       "\n",
       "    .dataframe thead th {\n",
       "        text-align: right;\n",
       "    }\n",
       "</style>\n",
       "<table border=\"1\" class=\"dataframe\">\n",
       "  <thead>\n",
       "    <tr style=\"text-align: right;\">\n",
       "      <th></th>\n",
       "      <th>visitor_id</th>\n",
       "      <th>visit_day</th>\n",
       "      <th>day_of_week</th>\n",
       "      <th>week_number</th>\n",
       "      <th>dow_1</th>\n",
       "      <th>dow_2</th>\n",
       "      <th>dow_3</th>\n",
       "      <th>dow_4</th>\n",
       "      <th>dow_5</th>\n",
       "      <th>dow_6</th>\n",
       "      <th>dow_7</th>\n",
       "    </tr>\n",
       "  </thead>\n",
       "  <tbody>\n",
       "    <tr>\n",
       "      <th>0</th>\n",
       "      <td>1</td>\n",
       "      <td>30</td>\n",
       "      <td>2</td>\n",
       "      <td>5</td>\n",
       "      <td>0</td>\n",
       "      <td>1</td>\n",
       "      <td>0</td>\n",
       "      <td>0</td>\n",
       "      <td>0</td>\n",
       "      <td>0</td>\n",
       "      <td>0</td>\n",
       "    </tr>\n",
       "    <tr>\n",
       "      <th>1</th>\n",
       "      <td>1</td>\n",
       "      <td>84</td>\n",
       "      <td>7</td>\n",
       "      <td>12</td>\n",
       "      <td>0</td>\n",
       "      <td>0</td>\n",
       "      <td>0</td>\n",
       "      <td>0</td>\n",
       "      <td>0</td>\n",
       "      <td>0</td>\n",
       "      <td>1</td>\n",
       "    </tr>\n",
       "    <tr>\n",
       "      <th>2</th>\n",
       "      <td>1</td>\n",
       "      <td>126</td>\n",
       "      <td>7</td>\n",
       "      <td>18</td>\n",
       "      <td>0</td>\n",
       "      <td>0</td>\n",
       "      <td>0</td>\n",
       "      <td>0</td>\n",
       "      <td>0</td>\n",
       "      <td>0</td>\n",
       "      <td>1</td>\n",
       "    </tr>\n",
       "    <tr>\n",
       "      <th>3</th>\n",
       "      <td>1</td>\n",
       "      <td>135</td>\n",
       "      <td>2</td>\n",
       "      <td>20</td>\n",
       "      <td>0</td>\n",
       "      <td>1</td>\n",
       "      <td>0</td>\n",
       "      <td>0</td>\n",
       "      <td>0</td>\n",
       "      <td>0</td>\n",
       "      <td>0</td>\n",
       "    </tr>\n",
       "    <tr>\n",
       "      <th>4</th>\n",
       "      <td>1</td>\n",
       "      <td>137</td>\n",
       "      <td>4</td>\n",
       "      <td>20</td>\n",
       "      <td>0</td>\n",
       "      <td>0</td>\n",
       "      <td>0</td>\n",
       "      <td>1</td>\n",
       "      <td>0</td>\n",
       "      <td>0</td>\n",
       "      <td>0</td>\n",
       "    </tr>\n",
       "  </tbody>\n",
       "</table>\n",
       "</div>"
      ],
      "text/plain": [
       "   visitor_id  visit_day  day_of_week  week_number  ...  dow_4  dow_5  dow_6  dow_7\n",
       "0           1         30            2            5  ...      0      0      0      0\n",
       "1           1         84            7           12  ...      0      0      0      1\n",
       "2           1        126            7           18  ...      0      0      0      1\n",
       "3           1        135            2           20  ...      0      0      0      0\n",
       "4           1        137            4           20  ...      1      0      0      0\n",
       "\n",
       "[5 rows x 11 columns]"
      ]
     },
     "execution_count": 39,
     "metadata": {
      "tags": []
     },
     "output_type": "execute_result"
    }
   ],
   "source": [
    "df.head()"
   ]
  },
  {
   "cell_type": "code",
   "execution_count": 40,
   "metadata": {
    "colab": {
     "base_uri": "https://localhost:8080/",
     "height": 294
    },
    "colab_type": "code",
    "executionInfo": {
     "elapsed": 10225,
     "status": "ok",
     "timestamp": 1563846342703,
     "user": {
      "displayName": "Cloud Machine",
      "photoUrl": "",
      "userId": "03543453517966682716"
     },
     "user_tz": -60
    },
    "id": "1l8xO08rdyWq",
    "outputId": "289560d5-100d-4538-b194-06c809689ef5"
   },
   "outputs": [
    {
     "name": "stdout",
     "output_type": "stream",
     "text": [
      "<class 'pandas.core.frame.DataFrame'>\n",
      "RangeIndex: 5674156 entries, 0 to 5674155\n",
      "Data columns (total 11 columns):\n",
      "visitor_id     uint32\n",
      "visit_day      uint32\n",
      "day_of_week    uint8\n",
      "week_number    uint32\n",
      "dow_1          uint8\n",
      "dow_2          uint8\n",
      "dow_3          uint8\n",
      "dow_4          uint8\n",
      "dow_5          uint8\n",
      "dow_6          uint8\n",
      "dow_7          uint8\n",
      "dtypes: uint32(3), uint8(8)\n",
      "memory usage: 108.2 MB\n"
     ]
    }
   ],
   "source": [
    "df.info()"
   ]
  },
  {
   "cell_type": "markdown",
   "metadata": {
    "colab_type": "text",
    "id": "oFwX-EW5dyW0"
   },
   "source": [
    "### Aggregate to weekly"
   ]
  },
  {
   "cell_type": "code",
   "execution_count": 41,
   "metadata": {
    "colab": {
     "base_uri": "https://localhost:8080/",
     "height": 52
    },
    "colab_type": "code",
    "executionInfo": {
     "elapsed": 13688,
     "status": "ok",
     "timestamp": 1563846346199,
     "user": {
      "displayName": "Cloud Machine",
      "photoUrl": "",
      "userId": "03543453517966682716"
     },
     "user_tz": -60
    },
    "id": "t-49dw-6dyW1",
    "outputId": "8979db7d-2381-4489-b1a7-58b5034a4e82"
   },
   "outputs": [
    {
     "name": "stdout",
     "output_type": "stream",
     "text": [
      "CPU times: user 3.43 s, sys: 65.2 ms, total: 3.49 s\n",
      "Wall time: 3.51 s\n"
     ]
    }
   ],
   "source": [
    "%%time\n",
    "df_w = df.groupby(['visitor_id', 'week_number']).agg({'dow_1':sum,\n",
    "                                                           'dow_2':sum, \n",
    "                                                           'dow_3':sum,\n",
    "                                                           'dow_4':sum,\n",
    "                                                           'dow_5':sum,\n",
    "                                                           'dow_6':sum,\n",
    "                                                           'dow_7':sum\n",
    "                                                          })"
   ]
  },
  {
   "cell_type": "code",
   "execution_count": 42,
   "metadata": {
    "colab": {
     "base_uri": "https://localhost:8080/",
     "height": 233
    },
    "colab_type": "code",
    "executionInfo": {
     "elapsed": 13662,
     "status": "ok",
     "timestamp": 1563846346202,
     "user": {
      "displayName": "Cloud Machine",
      "photoUrl": "",
      "userId": "03543453517966682716"
     },
     "user_tz": -60
    },
    "id": "s2WMsoCPdyW8",
    "outputId": "37ec8ef5-328a-427c-c09b-0741b3abbc50"
   },
   "outputs": [
    {
     "data": {
      "text/html": [
       "<div>\n",
       "<style scoped>\n",
       "    .dataframe tbody tr th:only-of-type {\n",
       "        vertical-align: middle;\n",
       "    }\n",
       "\n",
       "    .dataframe tbody tr th {\n",
       "        vertical-align: top;\n",
       "    }\n",
       "\n",
       "    .dataframe thead th {\n",
       "        text-align: right;\n",
       "    }\n",
       "</style>\n",
       "<table border=\"1\" class=\"dataframe\">\n",
       "  <thead>\n",
       "    <tr style=\"text-align: right;\">\n",
       "      <th></th>\n",
       "      <th></th>\n",
       "      <th>dow_1</th>\n",
       "      <th>dow_2</th>\n",
       "      <th>dow_3</th>\n",
       "      <th>dow_4</th>\n",
       "      <th>dow_5</th>\n",
       "      <th>dow_6</th>\n",
       "      <th>dow_7</th>\n",
       "    </tr>\n",
       "    <tr>\n",
       "      <th>visitor_id</th>\n",
       "      <th>week_number</th>\n",
       "      <th></th>\n",
       "      <th></th>\n",
       "      <th></th>\n",
       "      <th></th>\n",
       "      <th></th>\n",
       "      <th></th>\n",
       "      <th></th>\n",
       "    </tr>\n",
       "  </thead>\n",
       "  <tbody>\n",
       "    <tr>\n",
       "      <th rowspan=\"5\" valign=\"top\">1</th>\n",
       "      <th>5</th>\n",
       "      <td>0</td>\n",
       "      <td>1</td>\n",
       "      <td>0</td>\n",
       "      <td>0</td>\n",
       "      <td>0</td>\n",
       "      <td>0</td>\n",
       "      <td>0</td>\n",
       "    </tr>\n",
       "    <tr>\n",
       "      <th>12</th>\n",
       "      <td>0</td>\n",
       "      <td>0</td>\n",
       "      <td>0</td>\n",
       "      <td>0</td>\n",
       "      <td>0</td>\n",
       "      <td>0</td>\n",
       "      <td>1</td>\n",
       "    </tr>\n",
       "    <tr>\n",
       "      <th>18</th>\n",
       "      <td>0</td>\n",
       "      <td>0</td>\n",
       "      <td>0</td>\n",
       "      <td>0</td>\n",
       "      <td>0</td>\n",
       "      <td>0</td>\n",
       "      <td>1</td>\n",
       "    </tr>\n",
       "    <tr>\n",
       "      <th>20</th>\n",
       "      <td>0</td>\n",
       "      <td>1</td>\n",
       "      <td>0</td>\n",
       "      <td>1</td>\n",
       "      <td>0</td>\n",
       "      <td>0</td>\n",
       "      <td>0</td>\n",
       "    </tr>\n",
       "    <tr>\n",
       "      <th>26</th>\n",
       "      <td>0</td>\n",
       "      <td>0</td>\n",
       "      <td>0</td>\n",
       "      <td>1</td>\n",
       "      <td>0</td>\n",
       "      <td>0</td>\n",
       "      <td>0</td>\n",
       "    </tr>\n",
       "  </tbody>\n",
       "</table>\n",
       "</div>"
      ],
      "text/plain": [
       "                        dow_1  dow_2  dow_3  dow_4  dow_5  dow_6  dow_7\n",
       "visitor_id week_number                                                 \n",
       "1          5                0      1      0      0      0      0      0\n",
       "           12               0      0      0      0      0      0      1\n",
       "           18               0      0      0      0      0      0      1\n",
       "           20               0      1      0      1      0      0      0\n",
       "           26               0      0      0      1      0      0      0"
      ]
     },
     "execution_count": 42,
     "metadata": {
      "tags": []
     },
     "output_type": "execute_result"
    }
   ],
   "source": [
    "df_w.head()"
   ]
  },
  {
   "cell_type": "code",
   "execution_count": null,
   "metadata": {
    "colab": {},
    "colab_type": "code",
    "id": "f_IqT-aEdyXC"
   },
   "outputs": [],
   "source": [
    "df_w = df_w.reset_index()"
   ]
  },
  {
   "cell_type": "code",
   "execution_count": 44,
   "metadata": {
    "colab": {
     "base_uri": "https://localhost:8080/",
     "height": 260
    },
    "colab_type": "code",
    "executionInfo": {
     "elapsed": 14200,
     "status": "ok",
     "timestamp": 1563846346801,
     "user": {
      "displayName": "Cloud Machine",
      "photoUrl": "",
      "userId": "03543453517966682716"
     },
     "user_tz": -60
    },
    "id": "bu6nTby9dyXc",
    "outputId": "923cb382-52fb-486b-dae1-860d082957d7"
   },
   "outputs": [
    {
     "name": "stdout",
     "output_type": "stream",
     "text": [
      "<class 'pandas.core.frame.DataFrame'>\n",
      "RangeIndex: 4662547 entries, 0 to 4662546\n",
      "Data columns (total 9 columns):\n",
      "visitor_id     uint64\n",
      "week_number    uint64\n",
      "dow_1          uint8\n",
      "dow_2          uint8\n",
      "dow_3          uint8\n",
      "dow_4          uint8\n",
      "dow_5          uint8\n",
      "dow_6          uint8\n",
      "dow_7          uint8\n",
      "dtypes: uint64(2), uint8(7)\n",
      "memory usage: 102.3 MB\n"
     ]
    }
   ],
   "source": [
    "df_w.info()"
   ]
  },
  {
   "cell_type": "markdown",
   "metadata": {
    "colab_type": "text",
    "id": "E2Nkcec5dyXj"
   },
   "source": [
    "### Account for no visit\n",
    "\n",
    "Currently our dataset only contains weeks in which a customer made a visit. We need to add additional weeks to the data to represent those weeks where no visit happaned. We can do this by doing a full outer join on a full range of weeks for every customer\n",
    "\n",
    "The next step creates the full range. We do this by:\n",
    "- Create a range from 1:80000 to represent visitor_id's\n",
    "- Repeat every visitor id 143 times to get the full range of weeks for every visitor id\n",
    "- Set a tempory record = 1\n",
    "- Use the cumsum of this tempory record to get the week integer values"
   ]
  },
  {
   "cell_type": "code",
   "execution_count": null,
   "metadata": {
    "colab": {},
    "colab_type": "code",
    "id": "EFBmWaTedyXl"
   },
   "outputs": [],
   "source": [
    "visitor_ids = pd.Series(range(1, 300001))\n",
    "visitor_ids_rep = visitor_ids.repeat(143).reset_index(drop=True)\n",
    "full_range = pd.DataFrame({'visitor_id': visitor_ids_rep})\n",
    "full_range['record'] = 1\n",
    "full_range['week_number'] = full_range.groupby('visitor_id')['record'].cumsum()\n",
    "full_range['visitor_id'] = full_range['visitor_id'].astype(np.uint64)\n",
    "full_range['week_number'] = full_range['week_number'].astype(np.uint64)"
   ]
  },
  {
   "cell_type": "code",
   "execution_count": 46,
   "metadata": {
    "colab": {
     "base_uri": "https://localhost:8080/",
     "height": 156
    },
    "colab_type": "code",
    "executionInfo": {
     "elapsed": 19416,
     "status": "ok",
     "timestamp": 1563846352074,
     "user": {
      "displayName": "Cloud Machine",
      "photoUrl": "",
      "userId": "03543453517966682716"
     },
     "user_tz": -60
    },
    "id": "x2-dM_XGdyXp",
    "outputId": "3f2480c1-e9ab-4ad5-f59e-f2f13a7d01db"
   },
   "outputs": [
    {
     "name": "stdout",
     "output_type": "stream",
     "text": [
      "<class 'pandas.core.frame.DataFrame'>\n",
      "RangeIndex: 42900000 entries, 0 to 42899999\n",
      "Data columns (total 3 columns):\n",
      "visitor_id     uint64\n",
      "record         int64\n",
      "week_number    uint64\n",
      "dtypes: int64(1), uint64(2)\n",
      "memory usage: 981.9 MB\n"
     ]
    }
   ],
   "source": [
    "full_range.info()"
   ]
  },
  {
   "cell_type": "markdown",
   "metadata": {
    "colab_type": "text",
    "id": "KcB8t9DgdyXy"
   },
   "source": [
    "Do the full outer join on the weekly data"
   ]
  },
  {
   "cell_type": "code",
   "execution_count": 47,
   "metadata": {
    "colab": {
     "base_uri": "https://localhost:8080/",
     "height": 52
    },
    "colab_type": "code",
    "executionInfo": {
     "elapsed": 54462,
     "status": "ok",
     "timestamp": 1563846387167,
     "user": {
      "displayName": "Cloud Machine",
      "photoUrl": "",
      "userId": "03543453517966682716"
     },
     "user_tz": -60
    },
    "id": "QPfMo06HdyXz",
    "outputId": "60f74d4a-372f-4421-8bac-cf6521b4179e"
   },
   "outputs": [
    {
     "name": "stdout",
     "output_type": "stream",
     "text": [
      "CPU times: user 29.6 s, sys: 5.49 s, total: 35.1 s\n",
      "Wall time: 35.1 s\n"
     ]
    }
   ],
   "source": [
    "%%time\n",
    "df_w1 = df_w.merge(full_range[['visitor_id','week_number']], \n",
    "                  left_on=['visitor_id','week_number'], \n",
    "                  right_on=['visitor_id','week_number'], \n",
    "                  how = 'outer')\n",
    "df_w1 = df_w1.sort_values(['visitor_id', 'week_number'])"
   ]
  },
  {
   "cell_type": "code",
   "execution_count": 48,
   "metadata": {
    "colab": {
     "base_uri": "https://localhost:8080/",
     "height": 260
    },
    "colab_type": "code",
    "executionInfo": {
     "elapsed": 54431,
     "status": "ok",
     "timestamp": 1563846387171,
     "user": {
      "displayName": "Cloud Machine",
      "photoUrl": "",
      "userId": "03543453517966682716"
     },
     "user_tz": -60
    },
    "id": "uSmDnlJadyX4",
    "outputId": "16e5c196-256c-4e14-b8b4-d2a4635229f0"
   },
   "outputs": [
    {
     "name": "stdout",
     "output_type": "stream",
     "text": [
      "<class 'pandas.core.frame.DataFrame'>\n",
      "Int64Index: 42900000 entries, 4662547 to 42899999\n",
      "Data columns (total 9 columns):\n",
      "visitor_id     uint64\n",
      "week_number    uint64\n",
      "dow_1          float64\n",
      "dow_2          float64\n",
      "dow_3          float64\n",
      "dow_4          float64\n",
      "dow_5          float64\n",
      "dow_6          float64\n",
      "dow_7          float64\n",
      "dtypes: float64(7), uint64(2)\n",
      "memory usage: 3.2 GB\n"
     ]
    }
   ],
   "source": [
    "df_w1.info()"
   ]
  },
  {
   "cell_type": "markdown",
   "metadata": {
    "colab_type": "text",
    "id": "w4u096G8dyYD"
   },
   "source": [
    "Notice that our dataframe now contains 43 million records. Previously it only had 23.7 million. The new records represent non visits. They are all set to NaN values so we need to impute this with 0"
   ]
  },
  {
   "cell_type": "code",
   "execution_count": null,
   "metadata": {
    "colab": {},
    "colab_type": "code",
    "id": "G_LBNbBWdyYE"
   },
   "outputs": [],
   "source": [
    "df_w1 = df_w1.fillna(0)"
   ]
  },
  {
   "cell_type": "markdown",
   "metadata": {
    "colab_type": "text",
    "id": "Izz4DsxxdyYI"
   },
   "source": [
    "#### total_visits_in_week\n",
    "\n",
    "Next we create a new column to represent the total number of visits in a spesific week"
   ]
  },
  {
   "cell_type": "code",
   "execution_count": 50,
   "metadata": {
    "colab": {
     "base_uri": "https://localhost:8080/",
     "height": 202
    },
    "colab_type": "code",
    "executionInfo": {
     "elapsed": 65758,
     "status": "ok",
     "timestamp": 1563846398566,
     "user": {
      "displayName": "Cloud Machine",
      "photoUrl": "",
      "userId": "03543453517966682716"
     },
     "user_tz": -60
    },
    "id": "2JrdBIoYdyYJ",
    "outputId": "12a786b2-ec95-4d59-d6e0-fd9ad4342f8e"
   },
   "outputs": [
    {
     "data": {
      "text/html": [
       "<div>\n",
       "<style scoped>\n",
       "    .dataframe tbody tr th:only-of-type {\n",
       "        vertical-align: middle;\n",
       "    }\n",
       "\n",
       "    .dataframe tbody tr th {\n",
       "        vertical-align: top;\n",
       "    }\n",
       "\n",
       "    .dataframe thead th {\n",
       "        text-align: right;\n",
       "    }\n",
       "</style>\n",
       "<table border=\"1\" class=\"dataframe\">\n",
       "  <thead>\n",
       "    <tr style=\"text-align: right;\">\n",
       "      <th></th>\n",
       "      <th>visitor_id</th>\n",
       "      <th>week_number</th>\n",
       "      <th>dow_1</th>\n",
       "      <th>dow_2</th>\n",
       "      <th>dow_3</th>\n",
       "      <th>dow_4</th>\n",
       "      <th>dow_5</th>\n",
       "      <th>dow_6</th>\n",
       "      <th>dow_7</th>\n",
       "      <th>total_visits_in_week</th>\n",
       "    </tr>\n",
       "  </thead>\n",
       "  <tbody>\n",
       "    <tr>\n",
       "      <th>42899995</th>\n",
       "      <td>300000</td>\n",
       "      <td>139</td>\n",
       "      <td>0.0</td>\n",
       "      <td>0.0</td>\n",
       "      <td>0.0</td>\n",
       "      <td>0.0</td>\n",
       "      <td>0.0</td>\n",
       "      <td>0.0</td>\n",
       "      <td>0.0</td>\n",
       "      <td>0.0</td>\n",
       "    </tr>\n",
       "    <tr>\n",
       "      <th>42899996</th>\n",
       "      <td>300000</td>\n",
       "      <td>140</td>\n",
       "      <td>0.0</td>\n",
       "      <td>0.0</td>\n",
       "      <td>0.0</td>\n",
       "      <td>0.0</td>\n",
       "      <td>0.0</td>\n",
       "      <td>0.0</td>\n",
       "      <td>0.0</td>\n",
       "      <td>0.0</td>\n",
       "    </tr>\n",
       "    <tr>\n",
       "      <th>42899997</th>\n",
       "      <td>300000</td>\n",
       "      <td>141</td>\n",
       "      <td>0.0</td>\n",
       "      <td>0.0</td>\n",
       "      <td>0.0</td>\n",
       "      <td>0.0</td>\n",
       "      <td>0.0</td>\n",
       "      <td>0.0</td>\n",
       "      <td>0.0</td>\n",
       "      <td>0.0</td>\n",
       "    </tr>\n",
       "    <tr>\n",
       "      <th>42899998</th>\n",
       "      <td>300000</td>\n",
       "      <td>142</td>\n",
       "      <td>0.0</td>\n",
       "      <td>0.0</td>\n",
       "      <td>0.0</td>\n",
       "      <td>0.0</td>\n",
       "      <td>0.0</td>\n",
       "      <td>0.0</td>\n",
       "      <td>0.0</td>\n",
       "      <td>0.0</td>\n",
       "    </tr>\n",
       "    <tr>\n",
       "      <th>42899999</th>\n",
       "      <td>300000</td>\n",
       "      <td>143</td>\n",
       "      <td>0.0</td>\n",
       "      <td>0.0</td>\n",
       "      <td>0.0</td>\n",
       "      <td>0.0</td>\n",
       "      <td>0.0</td>\n",
       "      <td>0.0</td>\n",
       "      <td>0.0</td>\n",
       "      <td>0.0</td>\n",
       "    </tr>\n",
       "  </tbody>\n",
       "</table>\n",
       "</div>"
      ],
      "text/plain": [
       "          visitor_id  week_number  dow_1  ...  dow_6  dow_7  total_visits_in_week\n",
       "42899995      300000          139    0.0  ...    0.0    0.0                   0.0\n",
       "42899996      300000          140    0.0  ...    0.0    0.0                   0.0\n",
       "42899997      300000          141    0.0  ...    0.0    0.0                   0.0\n",
       "42899998      300000          142    0.0  ...    0.0    0.0                   0.0\n",
       "42899999      300000          143    0.0  ...    0.0    0.0                   0.0\n",
       "\n",
       "[5 rows x 10 columns]"
      ]
     },
     "execution_count": 50,
     "metadata": {
      "tags": []
     },
     "output_type": "execute_result"
    }
   ],
   "source": [
    "dow_cols = df_w1.columns[df_w1.columns.str.contains('dow')]\n",
    "df_w1['total_visits_in_week'] = df_w1[dow_cols].sum(axis=1)\n",
    "df_w1.tail()"
   ]
  },
  {
   "cell_type": "code",
   "execution_count": 51,
   "metadata": {
    "colab": {
     "base_uri": "https://localhost:8080/",
     "height": 277
    },
    "colab_type": "code",
    "executionInfo": {
     "elapsed": 68398,
     "status": "ok",
     "timestamp": 1563846401238,
     "user": {
      "displayName": "Cloud Machine",
      "photoUrl": "",
      "userId": "03543453517966682716"
     },
     "user_tz": -60
    },
    "id": "KyEsbmondyYQ",
    "outputId": "0519b6bc-9e9d-4bfa-80db-27722048c7c4"
   },
   "outputs": [
    {
     "name": "stdout",
     "output_type": "stream",
     "text": [
      "<class 'pandas.core.frame.DataFrame'>\n",
      "Int64Index: 42900000 entries, 4662547 to 42899999\n",
      "Data columns (total 10 columns):\n",
      "visitor_id              uint64\n",
      "week_number             uint64\n",
      "dow_1                   float64\n",
      "dow_2                   float64\n",
      "dow_3                   float64\n",
      "dow_4                   float64\n",
      "dow_5                   float64\n",
      "dow_6                   float64\n",
      "dow_7                   float64\n",
      "total_visits_in_week    float64\n",
      "dtypes: float64(8), uint64(2)\n",
      "memory usage: 3.5 GB\n"
     ]
    }
   ],
   "source": [
    "df_w1.info()"
   ]
  },
  {
   "cell_type": "markdown",
   "metadata": {
    "colab_type": "text",
    "id": "3xzLCWktdyYW"
   },
   "source": [
    "Downcast the values stored as float64 to uint8 to save memory"
   ]
  },
  {
   "cell_type": "code",
   "execution_count": null,
   "metadata": {
    "colab": {},
    "colab_type": "code",
    "id": "HEGlTOnvdyYX"
   },
   "outputs": [],
   "source": [
    "df_w1_float = df_w1.select_dtypes(include=['float']).columns\n",
    "df_w1[df_w1_float] = df_w1[df_w1_float].apply(pd.to_numeric, downcast='unsigned')"
   ]
  },
  {
   "cell_type": "code",
   "execution_count": 53,
   "metadata": {
    "colab": {
     "base_uri": "https://localhost:8080/",
     "height": 277
    },
    "colab_type": "code",
    "executionInfo": {
     "elapsed": 91219,
     "status": "ok",
     "timestamp": 1563846424126,
     "user": {
      "displayName": "Cloud Machine",
      "photoUrl": "",
      "userId": "03543453517966682716"
     },
     "user_tz": -60
    },
    "id": "BjupKeiZdyYb",
    "outputId": "b2388626-25e7-465d-ad5c-b4d72c2e68e3"
   },
   "outputs": [
    {
     "name": "stdout",
     "output_type": "stream",
     "text": [
      "<class 'pandas.core.frame.DataFrame'>\n",
      "Int64Index: 42900000 entries, 4662547 to 42899999\n",
      "Data columns (total 10 columns):\n",
      "visitor_id              uint64\n",
      "week_number             uint64\n",
      "dow_1                   uint8\n",
      "dow_2                   uint8\n",
      "dow_3                   uint8\n",
      "dow_4                   uint8\n",
      "dow_5                   uint8\n",
      "dow_6                   uint8\n",
      "dow_7                   uint8\n",
      "total_visits_in_week    uint8\n",
      "dtypes: uint64(2), uint8(8)\n",
      "memory usage: 1.3 GB\n"
     ]
    }
   ],
   "source": [
    "df_w1.info()"
   ]
  },
  {
   "cell_type": "markdown",
   "metadata": {
    "colab_type": "text",
    "id": "JY4luC_gdyYi"
   },
   "source": [
    "Nice, the memory usage reduces from 3.5 GB to 1.3 GB"
   ]
  },
  {
   "cell_type": "code",
   "execution_count": null,
   "metadata": {
    "colab": {},
    "colab_type": "code",
    "id": "ndoyhQW2dyYk"
   },
   "outputs": [],
   "source": [
    "df_w1 = df_w1.reset_index(drop=True)"
   ]
  },
  {
   "cell_type": "markdown",
   "metadata": {
    "colab_type": "text",
    "id": "SVoPMW1CdyYp"
   },
   "source": [
    "Let's store this as a feather file to save our progress"
   ]
  },
  {
   "cell_type": "code",
   "execution_count": null,
   "metadata": {
    "colab": {},
    "colab_type": "code",
    "id": "E4Lx7TwrdyYu"
   },
   "outputs": [],
   "source": [
    "df_w1.to_feather('df_w')"
   ]
  },
  {
   "cell_type": "markdown",
   "metadata": {
    "colab_type": "text",
    "id": "FWbo-rsIdyY0"
   },
   "source": [
    "And del all the unused object from memory"
   ]
  },
  {
   "cell_type": "code",
   "execution_count": null,
   "metadata": {
    "colab": {},
    "colab_type": "code",
    "id": "qHM-SEsJdyY1"
   },
   "outputs": [],
   "source": [
    "del df\n",
    "del df_w\n",
    "del full_range\n",
    "del visitor_ids\n",
    "del visitor_ids_rep"
   ]
  },
  {
   "cell_type": "markdown",
   "metadata": {
    "colab_type": "text",
    "id": "Zc51pZUUdyY_"
   },
   "source": [
    "### Freq\n",
    "\n",
    "We can create the frequency of visits and a spesific point in time by taking the cumulative sum of total_visits_per_week for each visitor"
   ]
  },
  {
   "cell_type": "code",
   "execution_count": null,
   "metadata": {
    "colab": {},
    "colab_type": "code",
    "id": "xo8gUW2WdyY_"
   },
   "outputs": [],
   "source": [
    "df_w1['freq'] = df_w1.groupby('visitor_id')['total_visits_in_week'].cumsum().astype(np.uint32)"
   ]
  },
  {
   "cell_type": "markdown",
   "metadata": {
    "colab_type": "text",
    "id": "HjYpxznMdyZD"
   },
   "source": [
    "We will remove all the weeks where the customer freq = 0 i.e. the first visit hasn't happened yet"
   ]
  },
  {
   "cell_type": "code",
   "execution_count": 58,
   "metadata": {
    "colab": {
     "base_uri": "https://localhost:8080/",
     "height": 34
    },
    "colab_type": "code",
    "executionInfo": {
     "elapsed": 103717,
     "status": "ok",
     "timestamp": 1563846436793,
     "user": {
      "displayName": "Cloud Machine",
      "photoUrl": "",
      "userId": "03543453517966682716"
     },
     "user_tz": -60
    },
    "id": "MPIn5LpxdyZE",
    "outputId": "927c96fa-b057-468d-b657-39757a482828"
   },
   "outputs": [
    {
     "data": {
      "text/plain": [
       "(11728444, 11)"
      ]
     },
     "execution_count": 58,
     "metadata": {
      "tags": []
     },
     "output_type": "execute_result"
    }
   ],
   "source": [
    "df_w2 = df_w1.loc[~(df_w1['freq'] == 0)].reset_index(drop = True)\n",
    "df_w2.shape"
   ]
  },
  {
   "cell_type": "code",
   "execution_count": 59,
   "metadata": {
    "colab": {
     "base_uri": "https://localhost:8080/",
     "height": 294
    },
    "colab_type": "code",
    "executionInfo": {
     "elapsed": 103696,
     "status": "ok",
     "timestamp": 1563846436805,
     "user": {
      "displayName": "Cloud Machine",
      "photoUrl": "",
      "userId": "03543453517966682716"
     },
     "user_tz": -60
    },
    "id": "kmjNIE8IdyZK",
    "outputId": "b4394d56-b21b-4be2-ee12-7d66616a25da"
   },
   "outputs": [
    {
     "name": "stdout",
     "output_type": "stream",
     "text": [
      "<class 'pandas.core.frame.DataFrame'>\n",
      "RangeIndex: 11728444 entries, 0 to 11728443\n",
      "Data columns (total 11 columns):\n",
      "visitor_id              uint64\n",
      "week_number             uint64\n",
      "dow_1                   uint8\n",
      "dow_2                   uint8\n",
      "dow_3                   uint8\n",
      "dow_4                   uint8\n",
      "dow_5                   uint8\n",
      "dow_6                   uint8\n",
      "dow_7                   uint8\n",
      "total_visits_in_week    uint8\n",
      "freq                    uint32\n",
      "dtypes: uint32(1), uint64(2), uint8(8)\n",
      "memory usage: 313.2 MB\n"
     ]
    }
   ],
   "source": [
    "df_w2.info()"
   ]
  },
  {
   "cell_type": "markdown",
   "metadata": {
    "colab_type": "text",
    "id": "mJY34hqbdyZP"
   },
   "source": [
    "del df_w1 save some memory :)"
   ]
  },
  {
   "cell_type": "code",
   "execution_count": null,
   "metadata": {
    "colab": {},
    "colab_type": "code",
    "id": "QBNxVQmvdyZQ"
   },
   "outputs": [],
   "source": [
    "del df_w1"
   ]
  },
  {
   "cell_type": "code",
   "execution_count": 61,
   "metadata": {
    "colab": {
     "base_uri": "https://localhost:8080/",
     "height": 222
    },
    "colab_type": "code",
    "executionInfo": {
     "elapsed": 103652,
     "status": "ok",
     "timestamp": 1563846436823,
     "user": {
      "displayName": "Cloud Machine",
      "photoUrl": "",
      "userId": "03543453517966682716"
     },
     "user_tz": -60
    },
    "id": "jKTHr_YddyZV",
    "outputId": "b4dec657-7d11-4357-eeef-6d86e945bcd3"
   },
   "outputs": [
    {
     "data": {
      "text/html": [
       "<div>\n",
       "<style scoped>\n",
       "    .dataframe tbody tr th:only-of-type {\n",
       "        vertical-align: middle;\n",
       "    }\n",
       "\n",
       "    .dataframe tbody tr th {\n",
       "        vertical-align: top;\n",
       "    }\n",
       "\n",
       "    .dataframe thead th {\n",
       "        text-align: right;\n",
       "    }\n",
       "</style>\n",
       "<table border=\"1\" class=\"dataframe\">\n",
       "  <thead>\n",
       "    <tr style=\"text-align: right;\">\n",
       "      <th></th>\n",
       "      <th>visitor_id</th>\n",
       "      <th>week_number</th>\n",
       "      <th>dow_1</th>\n",
       "      <th>dow_2</th>\n",
       "      <th>dow_3</th>\n",
       "      <th>dow_4</th>\n",
       "      <th>dow_5</th>\n",
       "      <th>dow_6</th>\n",
       "      <th>dow_7</th>\n",
       "      <th>total_visits_in_week</th>\n",
       "      <th>freq</th>\n",
       "    </tr>\n",
       "  </thead>\n",
       "  <tbody>\n",
       "    <tr>\n",
       "      <th>11728439</th>\n",
       "      <td>82957</td>\n",
       "      <td>139</td>\n",
       "      <td>0</td>\n",
       "      <td>0</td>\n",
       "      <td>0</td>\n",
       "      <td>1</td>\n",
       "      <td>0</td>\n",
       "      <td>1</td>\n",
       "      <td>0</td>\n",
       "      <td>2</td>\n",
       "      <td>87</td>\n",
       "    </tr>\n",
       "    <tr>\n",
       "      <th>11728440</th>\n",
       "      <td>82957</td>\n",
       "      <td>140</td>\n",
       "      <td>0</td>\n",
       "      <td>0</td>\n",
       "      <td>0</td>\n",
       "      <td>0</td>\n",
       "      <td>0</td>\n",
       "      <td>1</td>\n",
       "      <td>0</td>\n",
       "      <td>1</td>\n",
       "      <td>88</td>\n",
       "    </tr>\n",
       "    <tr>\n",
       "      <th>11728441</th>\n",
       "      <td>82957</td>\n",
       "      <td>141</td>\n",
       "      <td>0</td>\n",
       "      <td>0</td>\n",
       "      <td>0</td>\n",
       "      <td>0</td>\n",
       "      <td>0</td>\n",
       "      <td>1</td>\n",
       "      <td>0</td>\n",
       "      <td>1</td>\n",
       "      <td>89</td>\n",
       "    </tr>\n",
       "    <tr>\n",
       "      <th>11728442</th>\n",
       "      <td>82957</td>\n",
       "      <td>142</td>\n",
       "      <td>0</td>\n",
       "      <td>0</td>\n",
       "      <td>0</td>\n",
       "      <td>0</td>\n",
       "      <td>0</td>\n",
       "      <td>1</td>\n",
       "      <td>0</td>\n",
       "      <td>1</td>\n",
       "      <td>90</td>\n",
       "    </tr>\n",
       "    <tr>\n",
       "      <th>11728443</th>\n",
       "      <td>82957</td>\n",
       "      <td>143</td>\n",
       "      <td>0</td>\n",
       "      <td>0</td>\n",
       "      <td>0</td>\n",
       "      <td>0</td>\n",
       "      <td>0</td>\n",
       "      <td>1</td>\n",
       "      <td>0</td>\n",
       "      <td>1</td>\n",
       "      <td>91</td>\n",
       "    </tr>\n",
       "  </tbody>\n",
       "</table>\n",
       "</div>"
      ],
      "text/plain": [
       "          visitor_id  week_number  dow_1  ...  dow_7  total_visits_in_week  freq\n",
       "11728439       82957          139      0  ...      0                     2    87\n",
       "11728440       82957          140      0  ...      0                     1    88\n",
       "11728441       82957          141      0  ...      0                     1    89\n",
       "11728442       82957          142      0  ...      0                     1    90\n",
       "11728443       82957          143      0  ...      0                     1    91\n",
       "\n",
       "[5 rows x 11 columns]"
      ]
     },
     "execution_count": 61,
     "metadata": {
      "tags": []
     },
     "output_type": "execute_result"
    }
   ],
   "source": [
    "df_w2.tail(5)"
   ]
  },
  {
   "cell_type": "markdown",
   "metadata": {
    "colab_type": "text",
    "id": "HhFN4HuPdyZZ"
   },
   "source": [
    "### any_visit_ind\n",
    "\n",
    "We create a column which tells us whether a visit (on any day) happaned"
   ]
  },
  {
   "cell_type": "code",
   "execution_count": null,
   "metadata": {
    "colab": {},
    "colab_type": "code",
    "id": "3gTwigFkdyZa"
   },
   "outputs": [],
   "source": [
    "df_w2['any_visit_ind'] = (df_w2['total_visits_in_week'] > 0).astype(np.uint8)"
   ]
  },
  {
   "cell_type": "code",
   "execution_count": 63,
   "metadata": {
    "colab": {
     "base_uri": "https://localhost:8080/",
     "height": 0
    },
    "colab_type": "code",
    "executionInfo": {
     "elapsed": 103609,
     "status": "ok",
     "timestamp": 1563846436837,
     "user": {
      "displayName": "Cloud Machine",
      "photoUrl": "",
      "userId": "03543453517966682716"
     },
     "user_tz": -60
    },
    "id": "7GIjhBYhdyZg",
    "outputId": "f395094c-baa0-4a2b-c67b-626b1f7d3393"
   },
   "outputs": [
    {
     "data": {
      "text/html": [
       "<div>\n",
       "<style scoped>\n",
       "    .dataframe tbody tr th:only-of-type {\n",
       "        vertical-align: middle;\n",
       "    }\n",
       "\n",
       "    .dataframe tbody tr th {\n",
       "        vertical-align: top;\n",
       "    }\n",
       "\n",
       "    .dataframe thead th {\n",
       "        text-align: right;\n",
       "    }\n",
       "</style>\n",
       "<table border=\"1\" class=\"dataframe\">\n",
       "  <thead>\n",
       "    <tr style=\"text-align: right;\">\n",
       "      <th></th>\n",
       "      <th>visitor_id</th>\n",
       "      <th>week_number</th>\n",
       "      <th>dow_1</th>\n",
       "      <th>dow_2</th>\n",
       "      <th>dow_3</th>\n",
       "      <th>dow_4</th>\n",
       "      <th>dow_5</th>\n",
       "      <th>dow_6</th>\n",
       "      <th>dow_7</th>\n",
       "      <th>total_visits_in_week</th>\n",
       "      <th>freq</th>\n",
       "      <th>any_visit_ind</th>\n",
       "    </tr>\n",
       "  </thead>\n",
       "  <tbody>\n",
       "    <tr>\n",
       "      <th>0</th>\n",
       "      <td>1</td>\n",
       "      <td>5</td>\n",
       "      <td>0</td>\n",
       "      <td>1</td>\n",
       "      <td>0</td>\n",
       "      <td>0</td>\n",
       "      <td>0</td>\n",
       "      <td>0</td>\n",
       "      <td>0</td>\n",
       "      <td>1</td>\n",
       "      <td>1</td>\n",
       "      <td>1</td>\n",
       "    </tr>\n",
       "    <tr>\n",
       "      <th>1</th>\n",
       "      <td>1</td>\n",
       "      <td>6</td>\n",
       "      <td>0</td>\n",
       "      <td>0</td>\n",
       "      <td>0</td>\n",
       "      <td>0</td>\n",
       "      <td>0</td>\n",
       "      <td>0</td>\n",
       "      <td>0</td>\n",
       "      <td>0</td>\n",
       "      <td>1</td>\n",
       "      <td>0</td>\n",
       "    </tr>\n",
       "    <tr>\n",
       "      <th>2</th>\n",
       "      <td>1</td>\n",
       "      <td>7</td>\n",
       "      <td>0</td>\n",
       "      <td>0</td>\n",
       "      <td>0</td>\n",
       "      <td>0</td>\n",
       "      <td>0</td>\n",
       "      <td>0</td>\n",
       "      <td>0</td>\n",
       "      <td>0</td>\n",
       "      <td>1</td>\n",
       "      <td>0</td>\n",
       "    </tr>\n",
       "    <tr>\n",
       "      <th>3</th>\n",
       "      <td>1</td>\n",
       "      <td>8</td>\n",
       "      <td>0</td>\n",
       "      <td>0</td>\n",
       "      <td>0</td>\n",
       "      <td>0</td>\n",
       "      <td>0</td>\n",
       "      <td>0</td>\n",
       "      <td>0</td>\n",
       "      <td>0</td>\n",
       "      <td>1</td>\n",
       "      <td>0</td>\n",
       "    </tr>\n",
       "    <tr>\n",
       "      <th>4</th>\n",
       "      <td>1</td>\n",
       "      <td>9</td>\n",
       "      <td>0</td>\n",
       "      <td>0</td>\n",
       "      <td>0</td>\n",
       "      <td>0</td>\n",
       "      <td>0</td>\n",
       "      <td>0</td>\n",
       "      <td>0</td>\n",
       "      <td>0</td>\n",
       "      <td>1</td>\n",
       "      <td>0</td>\n",
       "    </tr>\n",
       "  </tbody>\n",
       "</table>\n",
       "</div>"
      ],
      "text/plain": [
       "   visitor_id  week_number  dow_1  ...  total_visits_in_week  freq  any_visit_ind\n",
       "0           1            5      0  ...                     1     1              1\n",
       "1           1            6      0  ...                     0     1              0\n",
       "2           1            7      0  ...                     0     1              0\n",
       "3           1            8      0  ...                     0     1              0\n",
       "4           1            9      0  ...                     0     1              0\n",
       "\n",
       "[5 rows x 12 columns]"
      ]
     },
     "execution_count": 63,
     "metadata": {
      "tags": []
     },
     "output_type": "execute_result"
    }
   ],
   "source": [
    "df_w2.head()"
   ]
  },
  {
   "cell_type": "markdown",
   "metadata": {
    "colab_type": "text",
    "id": "km5_UC6TdyZl"
   },
   "source": [
    "### dow_0\n",
    "\n",
    "The rows which represent no visit is just 1 - any_vist_ind"
   ]
  },
  {
   "cell_type": "code",
   "execution_count": null,
   "metadata": {
    "colab": {},
    "colab_type": "code",
    "id": "AT0n9m5bdyZm"
   },
   "outputs": [],
   "source": [
    "df_w2['dow_0'] = 1 - df_w2['any_visit_ind']"
   ]
  },
  {
   "cell_type": "code",
   "execution_count": 65,
   "metadata": {
    "colab": {
     "base_uri": "https://localhost:8080/",
     "height": 0
    },
    "colab_type": "code",
    "executionInfo": {
     "elapsed": 104266,
     "status": "ok",
     "timestamp": 1563846437551,
     "user": {
      "displayName": "Cloud Machine",
      "photoUrl": "",
      "userId": "03543453517966682716"
     },
     "user_tz": -60
    },
    "id": "8DDaZSLOdyZp",
    "outputId": "b01db56f-82b0-40cd-8b3f-5763aad4e0b3"
   },
   "outputs": [
    {
     "name": "stdout",
     "output_type": "stream",
     "text": [
      "<class 'pandas.core.frame.DataFrame'>\n",
      "RangeIndex: 11728444 entries, 0 to 11728443\n",
      "Data columns (total 13 columns):\n",
      "visitor_id              uint64\n",
      "week_number             uint64\n",
      "dow_1                   uint8\n",
      "dow_2                   uint8\n",
      "dow_3                   uint8\n",
      "dow_4                   uint8\n",
      "dow_5                   uint8\n",
      "dow_6                   uint8\n",
      "dow_7                   uint8\n",
      "total_visits_in_week    uint8\n",
      "freq                    uint32\n",
      "any_visit_ind           uint8\n",
      "dow_0                   uint8\n",
      "dtypes: uint32(1), uint64(2), uint8(10)\n",
      "memory usage: 335.6 MB\n"
     ]
    }
   ],
   "source": [
    "df_w2.info()"
   ]
  },
  {
   "cell_type": "markdown",
   "metadata": {
    "colab_type": "text",
    "id": "YCNvAjQNdyZz"
   },
   "source": [
    "### weeks_since_previous_visit\n",
    "\n",
    "Your previous visit will probably effect your next visit so lets get weeks_since_previous_visit"
   ]
  },
  {
   "cell_type": "code",
   "execution_count": 66,
   "metadata": {
    "colab": {
     "base_uri": "https://localhost:8080/",
     "height": 52
    },
    "colab_type": "code",
    "executionInfo": {
     "elapsed": 107407,
     "status": "ok",
     "timestamp": 1563846440725,
     "user": {
      "displayName": "Cloud Machine",
      "photoUrl": "",
      "userId": "03543453517966682716"
     },
     "user_tz": -60
    },
    "id": "5_fvtj7MdyZ0",
    "outputId": "5defc3e3-91d9-4bcb-c113-ab2c51d42c61"
   },
   "outputs": [
    {
     "name": "stdout",
     "output_type": "stream",
     "text": [
      "CPU times: user 4.24 s, sys: 39.8 ms, total: 4.28 s\n",
      "Wall time: 4.28 s\n"
     ]
    }
   ],
   "source": [
    "%%time\n",
    "weeks_since_prev_visit = []\n",
    "for r in df_w2['any_visit_ind']:\n",
    "    if r == 1.0:\n",
    "        c=1.0\n",
    "    else:\n",
    "        c+=1.0\n",
    "    weeks_since_prev_visit.append(c)"
   ]
  },
  {
   "cell_type": "code",
   "execution_count": null,
   "metadata": {
    "colab": {},
    "colab_type": "code",
    "id": "-DUk3TFIdyZ-"
   },
   "outputs": [],
   "source": [
    "weeks_since_prev_visit = pd.DataFrame({'weeks_since_prev_visit':weeks_since_prev_visit})"
   ]
  },
  {
   "cell_type": "code",
   "execution_count": null,
   "metadata": {
    "colab": {},
    "colab_type": "code",
    "id": "bvERNeY2dyaF"
   },
   "outputs": [],
   "source": [
    "df_w2 = pd.concat([df_w2, weeks_since_prev_visit], axis=1)"
   ]
  },
  {
   "cell_type": "code",
   "execution_count": null,
   "metadata": {
    "colab": {},
    "colab_type": "code",
    "id": "wLM3k-lrdyaK"
   },
   "outputs": [],
   "source": [
    "df_w2['weeks_since_prev_visit'] = df_w2['weeks_since_prev_visit'].astype(np.uint32)"
   ]
  },
  {
   "cell_type": "code",
   "execution_count": 70,
   "metadata": {
    "colab": {
     "base_uri": "https://localhost:8080/",
     "height": 222
    },
    "colab_type": "code",
    "executionInfo": {
     "elapsed": 109213,
     "status": "ok",
     "timestamp": 1563846442651,
     "user": {
      "displayName": "Cloud Machine",
      "photoUrl": "",
      "userId": "03543453517966682716"
     },
     "user_tz": -60
    },
    "id": "_ThIsoNedyaT",
    "outputId": "65e37430-f4a6-427a-d82a-a959aac410a5"
   },
   "outputs": [
    {
     "data": {
      "text/html": [
       "<div>\n",
       "<style scoped>\n",
       "    .dataframe tbody tr th:only-of-type {\n",
       "        vertical-align: middle;\n",
       "    }\n",
       "\n",
       "    .dataframe tbody tr th {\n",
       "        vertical-align: top;\n",
       "    }\n",
       "\n",
       "    .dataframe thead th {\n",
       "        text-align: right;\n",
       "    }\n",
       "</style>\n",
       "<table border=\"1\" class=\"dataframe\">\n",
       "  <thead>\n",
       "    <tr style=\"text-align: right;\">\n",
       "      <th></th>\n",
       "      <th>visitor_id</th>\n",
       "      <th>week_number</th>\n",
       "      <th>dow_1</th>\n",
       "      <th>dow_2</th>\n",
       "      <th>dow_3</th>\n",
       "      <th>dow_4</th>\n",
       "      <th>dow_5</th>\n",
       "      <th>dow_6</th>\n",
       "      <th>dow_7</th>\n",
       "      <th>total_visits_in_week</th>\n",
       "      <th>freq</th>\n",
       "      <th>any_visit_ind</th>\n",
       "      <th>dow_0</th>\n",
       "      <th>weeks_since_prev_visit</th>\n",
       "    </tr>\n",
       "  </thead>\n",
       "  <tbody>\n",
       "    <tr>\n",
       "      <th>0</th>\n",
       "      <td>1</td>\n",
       "      <td>5</td>\n",
       "      <td>0</td>\n",
       "      <td>1</td>\n",
       "      <td>0</td>\n",
       "      <td>0</td>\n",
       "      <td>0</td>\n",
       "      <td>0</td>\n",
       "      <td>0</td>\n",
       "      <td>1</td>\n",
       "      <td>1</td>\n",
       "      <td>1</td>\n",
       "      <td>0</td>\n",
       "      <td>1</td>\n",
       "    </tr>\n",
       "    <tr>\n",
       "      <th>1</th>\n",
       "      <td>1</td>\n",
       "      <td>6</td>\n",
       "      <td>0</td>\n",
       "      <td>0</td>\n",
       "      <td>0</td>\n",
       "      <td>0</td>\n",
       "      <td>0</td>\n",
       "      <td>0</td>\n",
       "      <td>0</td>\n",
       "      <td>0</td>\n",
       "      <td>1</td>\n",
       "      <td>0</td>\n",
       "      <td>1</td>\n",
       "      <td>2</td>\n",
       "    </tr>\n",
       "    <tr>\n",
       "      <th>2</th>\n",
       "      <td>1</td>\n",
       "      <td>7</td>\n",
       "      <td>0</td>\n",
       "      <td>0</td>\n",
       "      <td>0</td>\n",
       "      <td>0</td>\n",
       "      <td>0</td>\n",
       "      <td>0</td>\n",
       "      <td>0</td>\n",
       "      <td>0</td>\n",
       "      <td>1</td>\n",
       "      <td>0</td>\n",
       "      <td>1</td>\n",
       "      <td>3</td>\n",
       "    </tr>\n",
       "    <tr>\n",
       "      <th>3</th>\n",
       "      <td>1</td>\n",
       "      <td>8</td>\n",
       "      <td>0</td>\n",
       "      <td>0</td>\n",
       "      <td>0</td>\n",
       "      <td>0</td>\n",
       "      <td>0</td>\n",
       "      <td>0</td>\n",
       "      <td>0</td>\n",
       "      <td>0</td>\n",
       "      <td>1</td>\n",
       "      <td>0</td>\n",
       "      <td>1</td>\n",
       "      <td>4</td>\n",
       "    </tr>\n",
       "    <tr>\n",
       "      <th>4</th>\n",
       "      <td>1</td>\n",
       "      <td>9</td>\n",
       "      <td>0</td>\n",
       "      <td>0</td>\n",
       "      <td>0</td>\n",
       "      <td>0</td>\n",
       "      <td>0</td>\n",
       "      <td>0</td>\n",
       "      <td>0</td>\n",
       "      <td>0</td>\n",
       "      <td>1</td>\n",
       "      <td>0</td>\n",
       "      <td>1</td>\n",
       "      <td>5</td>\n",
       "    </tr>\n",
       "  </tbody>\n",
       "</table>\n",
       "</div>"
      ],
      "text/plain": [
       "   visitor_id  week_number  dow_1  ...  any_visit_ind  dow_0  weeks_since_prev_visit\n",
       "0           1            5      0  ...              1      0                       1\n",
       "1           1            6      0  ...              0      1                       2\n",
       "2           1            7      0  ...              0      1                       3\n",
       "3           1            8      0  ...              0      1                       4\n",
       "4           1            9      0  ...              0      1                       5\n",
       "\n",
       "[5 rows x 14 columns]"
      ]
     },
     "execution_count": 70,
     "metadata": {
      "tags": []
     },
     "output_type": "execute_result"
    }
   ],
   "source": [
    "df_w2.head(5)"
   ]
  },
  {
   "cell_type": "code",
   "execution_count": 71,
   "metadata": {
    "colab": {
     "base_uri": "https://localhost:8080/",
     "height": 346
    },
    "colab_type": "code",
    "executionInfo": {
     "elapsed": 109187,
     "status": "ok",
     "timestamp": 1563846442654,
     "user": {
      "displayName": "Cloud Machine",
      "photoUrl": "",
      "userId": "03543453517966682716"
     },
     "user_tz": -60
    },
    "id": "TNExVHR-dyaY",
    "outputId": "a3425062-d513-447d-cbe2-a8f6129ed303"
   },
   "outputs": [
    {
     "name": "stdout",
     "output_type": "stream",
     "text": [
      "<class 'pandas.core.frame.DataFrame'>\n",
      "RangeIndex: 11728444 entries, 0 to 11728443\n",
      "Data columns (total 14 columns):\n",
      "visitor_id                uint64\n",
      "week_number               uint64\n",
      "dow_1                     uint8\n",
      "dow_2                     uint8\n",
      "dow_3                     uint8\n",
      "dow_4                     uint8\n",
      "dow_5                     uint8\n",
      "dow_6                     uint8\n",
      "dow_7                     uint8\n",
      "total_visits_in_week      uint8\n",
      "freq                      uint32\n",
      "any_visit_ind             uint8\n",
      "dow_0                     uint8\n",
      "weeks_since_prev_visit    uint32\n",
      "dtypes: uint32(2), uint64(2), uint8(10)\n",
      "memory usage: 380.3 MB\n"
     ]
    }
   ],
   "source": [
    "df_w2.info()"
   ]
  },
  {
   "cell_type": "code",
   "execution_count": null,
   "metadata": {
    "colab": {},
    "colab_type": "code",
    "id": "WDW8A2GNdyad"
   },
   "outputs": [],
   "source": [
    "df_w2.to_feather('df_w2')"
   ]
  },
  {
   "cell_type": "markdown",
   "metadata": {
    "colab_type": "text",
    "id": "_4_mWmZedyaj"
   },
   "source": [
    "### tot_dow\n",
    "\n",
    "Get the total number of visits for a spesific day_of_week. The reasoning for this feature: Someone who has visited on Monday often is likely to visit on Monday again."
   ]
  },
  {
   "cell_type": "code",
   "execution_count": 74,
   "metadata": {
    "colab": {
     "base_uri": "https://localhost:8080/",
     "height": 52
    },
    "colab_type": "code",
    "executionInfo": {
     "elapsed": 10843,
     "status": "ok",
     "timestamp": 1563846480315,
     "user": {
      "displayName": "Cloud Machine",
      "photoUrl": "",
      "userId": "03543453517966682716"
     },
     "user_tz": -60
    },
    "id": "XDxyIM7edyak",
    "outputId": "fe119be9-bca3-4131-9e63-ff2b62ee85a7"
   },
   "outputs": [
    {
     "name": "stdout",
     "output_type": "stream",
     "text": [
      "CPU times: user 7.21 s, sys: 551 ms, total: 7.76 s\n",
      "Wall time: 7.81 s\n"
     ]
    }
   ],
   "source": [
    "%%time\n",
    "df_w2['tot_dow_0'] = df_w2.groupby('visitor_id')['dow_0'].cumsum().astype(np.uint32)\n",
    "df_w2['tot_dow_1'] = df_w2.groupby('visitor_id')['dow_1'].cumsum().astype(np.uint32)\n",
    "df_w2['tot_dow_2'] = df_w2.groupby('visitor_id')['dow_2'].cumsum().astype(np.uint32)\n",
    "df_w2['tot_dow_3'] = df_w2.groupby('visitor_id')['dow_3'].cumsum().astype(np.uint32)\n",
    "df_w2['tot_dow_4'] = df_w2.groupby('visitor_id')['dow_4'].cumsum().astype(np.uint32)\n",
    "df_w2['tot_dow_5'] = df_w2.groupby('visitor_id')['dow_5'].cumsum().astype(np.uint32)\n",
    "df_w2['tot_dow_6'] = df_w2.groupby('visitor_id')['dow_6'].cumsum().astype(np.uint32)\n",
    "df_w2['tot_dow_7'] = df_w2.groupby('visitor_id')['dow_7'].cumsum().astype(np.uint32)"
   ]
  },
  {
   "cell_type": "code",
   "execution_count": 75,
   "metadata": {
    "colab": {
     "base_uri": "https://localhost:8080/",
     "height": 222
    },
    "colab_type": "code",
    "executionInfo": {
     "elapsed": 10811,
     "status": "ok",
     "timestamp": 1563846480319,
     "user": {
      "displayName": "Cloud Machine",
      "photoUrl": "",
      "userId": "03543453517966682716"
     },
     "user_tz": -60
    },
    "id": "mE9iqpWedyas",
    "outputId": "bfa49a2d-4a95-4830-cc2f-187fcda48963"
   },
   "outputs": [
    {
     "data": {
      "text/html": [
       "<div>\n",
       "<style scoped>\n",
       "    .dataframe tbody tr th:only-of-type {\n",
       "        vertical-align: middle;\n",
       "    }\n",
       "\n",
       "    .dataframe tbody tr th {\n",
       "        vertical-align: top;\n",
       "    }\n",
       "\n",
       "    .dataframe thead th {\n",
       "        text-align: right;\n",
       "    }\n",
       "</style>\n",
       "<table border=\"1\" class=\"dataframe\">\n",
       "  <thead>\n",
       "    <tr style=\"text-align: right;\">\n",
       "      <th></th>\n",
       "      <th>visitor_id</th>\n",
       "      <th>week_number</th>\n",
       "      <th>dow_1</th>\n",
       "      <th>dow_2</th>\n",
       "      <th>dow_3</th>\n",
       "      <th>dow_4</th>\n",
       "      <th>dow_5</th>\n",
       "      <th>dow_6</th>\n",
       "      <th>dow_7</th>\n",
       "      <th>total_visits_in_week</th>\n",
       "      <th>freq</th>\n",
       "      <th>any_visit_ind</th>\n",
       "      <th>dow_0</th>\n",
       "      <th>weeks_since_prev_visit</th>\n",
       "      <th>tot_dow_0</th>\n",
       "      <th>tot_dow_1</th>\n",
       "      <th>tot_dow_2</th>\n",
       "      <th>tot_dow_3</th>\n",
       "      <th>tot_dow_4</th>\n",
       "      <th>tot_dow_5</th>\n",
       "      <th>tot_dow_6</th>\n",
       "      <th>tot_dow_7</th>\n",
       "    </tr>\n",
       "  </thead>\n",
       "  <tbody>\n",
       "    <tr>\n",
       "      <th>0</th>\n",
       "      <td>1</td>\n",
       "      <td>5</td>\n",
       "      <td>0</td>\n",
       "      <td>1</td>\n",
       "      <td>0</td>\n",
       "      <td>0</td>\n",
       "      <td>0</td>\n",
       "      <td>0</td>\n",
       "      <td>0</td>\n",
       "      <td>1</td>\n",
       "      <td>1</td>\n",
       "      <td>1</td>\n",
       "      <td>0</td>\n",
       "      <td>1</td>\n",
       "      <td>0</td>\n",
       "      <td>0</td>\n",
       "      <td>1</td>\n",
       "      <td>0</td>\n",
       "      <td>0</td>\n",
       "      <td>0</td>\n",
       "      <td>0</td>\n",
       "      <td>0</td>\n",
       "    </tr>\n",
       "    <tr>\n",
       "      <th>1</th>\n",
       "      <td>1</td>\n",
       "      <td>6</td>\n",
       "      <td>0</td>\n",
       "      <td>0</td>\n",
       "      <td>0</td>\n",
       "      <td>0</td>\n",
       "      <td>0</td>\n",
       "      <td>0</td>\n",
       "      <td>0</td>\n",
       "      <td>0</td>\n",
       "      <td>1</td>\n",
       "      <td>0</td>\n",
       "      <td>1</td>\n",
       "      <td>2</td>\n",
       "      <td>1</td>\n",
       "      <td>0</td>\n",
       "      <td>1</td>\n",
       "      <td>0</td>\n",
       "      <td>0</td>\n",
       "      <td>0</td>\n",
       "      <td>0</td>\n",
       "      <td>0</td>\n",
       "    </tr>\n",
       "    <tr>\n",
       "      <th>2</th>\n",
       "      <td>1</td>\n",
       "      <td>7</td>\n",
       "      <td>0</td>\n",
       "      <td>0</td>\n",
       "      <td>0</td>\n",
       "      <td>0</td>\n",
       "      <td>0</td>\n",
       "      <td>0</td>\n",
       "      <td>0</td>\n",
       "      <td>0</td>\n",
       "      <td>1</td>\n",
       "      <td>0</td>\n",
       "      <td>1</td>\n",
       "      <td>3</td>\n",
       "      <td>2</td>\n",
       "      <td>0</td>\n",
       "      <td>1</td>\n",
       "      <td>0</td>\n",
       "      <td>0</td>\n",
       "      <td>0</td>\n",
       "      <td>0</td>\n",
       "      <td>0</td>\n",
       "    </tr>\n",
       "    <tr>\n",
       "      <th>3</th>\n",
       "      <td>1</td>\n",
       "      <td>8</td>\n",
       "      <td>0</td>\n",
       "      <td>0</td>\n",
       "      <td>0</td>\n",
       "      <td>0</td>\n",
       "      <td>0</td>\n",
       "      <td>0</td>\n",
       "      <td>0</td>\n",
       "      <td>0</td>\n",
       "      <td>1</td>\n",
       "      <td>0</td>\n",
       "      <td>1</td>\n",
       "      <td>4</td>\n",
       "      <td>3</td>\n",
       "      <td>0</td>\n",
       "      <td>1</td>\n",
       "      <td>0</td>\n",
       "      <td>0</td>\n",
       "      <td>0</td>\n",
       "      <td>0</td>\n",
       "      <td>0</td>\n",
       "    </tr>\n",
       "    <tr>\n",
       "      <th>4</th>\n",
       "      <td>1</td>\n",
       "      <td>9</td>\n",
       "      <td>0</td>\n",
       "      <td>0</td>\n",
       "      <td>0</td>\n",
       "      <td>0</td>\n",
       "      <td>0</td>\n",
       "      <td>0</td>\n",
       "      <td>0</td>\n",
       "      <td>0</td>\n",
       "      <td>1</td>\n",
       "      <td>0</td>\n",
       "      <td>1</td>\n",
       "      <td>5</td>\n",
       "      <td>4</td>\n",
       "      <td>0</td>\n",
       "      <td>1</td>\n",
       "      <td>0</td>\n",
       "      <td>0</td>\n",
       "      <td>0</td>\n",
       "      <td>0</td>\n",
       "      <td>0</td>\n",
       "    </tr>\n",
       "  </tbody>\n",
       "</table>\n",
       "</div>"
      ],
      "text/plain": [
       "   visitor_id  week_number  dow_1  dow_2  dow_3  dow_4  dow_5  dow_6  dow_7  \\\n",
       "0           1            5      0      1      0      0      0      0      0   \n",
       "1           1            6      0      0      0      0      0      0      0   \n",
       "2           1            7      0      0      0      0      0      0      0   \n",
       "3           1            8      0      0      0      0      0      0      0   \n",
       "4           1            9      0      0      0      0      0      0      0   \n",
       "\n",
       "   total_visits_in_week  freq  any_visit_ind  dow_0  weeks_since_prev_visit  \\\n",
       "0                     1     1              1      0                       1   \n",
       "1                     0     1              0      1                       2   \n",
       "2                     0     1              0      1                       3   \n",
       "3                     0     1              0      1                       4   \n",
       "4                     0     1              0      1                       5   \n",
       "\n",
       "   tot_dow_0  tot_dow_1  tot_dow_2  tot_dow_3  tot_dow_4  tot_dow_5  \\\n",
       "0          0          0          1          0          0          0   \n",
       "1          1          0          1          0          0          0   \n",
       "2          2          0          1          0          0          0   \n",
       "3          3          0          1          0          0          0   \n",
       "4          4          0          1          0          0          0   \n",
       "\n",
       "   tot_dow_6  tot_dow_7  \n",
       "0          0          0  \n",
       "1          0          0  \n",
       "2          0          0  \n",
       "3          0          0  \n",
       "4          0          0  "
      ]
     },
     "metadata": {
      "tags": []
     },
     "output_type": "display_data"
    }
   ],
   "source": [
    "display_all(df_w2.head())"
   ]
  },
  {
   "cell_type": "code",
   "execution_count": 76,
   "metadata": {
    "colab": {
     "base_uri": "https://localhost:8080/",
     "height": 485
    },
    "colab_type": "code",
    "executionInfo": {
     "elapsed": 11262,
     "status": "ok",
     "timestamp": 1563846480802,
     "user": {
      "displayName": "Cloud Machine",
      "photoUrl": "",
      "userId": "03543453517966682716"
     },
     "user_tz": -60
    },
    "id": "U-vvUBDddyaw",
    "outputId": "93448695-c626-444b-f866-03ada2ddda98"
   },
   "outputs": [
    {
     "name": "stdout",
     "output_type": "stream",
     "text": [
      "<class 'pandas.core.frame.DataFrame'>\n",
      "RangeIndex: 11728444 entries, 0 to 11728443\n",
      "Data columns (total 22 columns):\n",
      "visitor_id                uint64\n",
      "week_number               uint64\n",
      "dow_1                     uint8\n",
      "dow_2                     uint8\n",
      "dow_3                     uint8\n",
      "dow_4                     uint8\n",
      "dow_5                     uint8\n",
      "dow_6                     uint8\n",
      "dow_7                     uint8\n",
      "total_visits_in_week      uint8\n",
      "freq                      uint32\n",
      "any_visit_ind             uint8\n",
      "dow_0                     uint8\n",
      "weeks_since_prev_visit    uint32\n",
      "tot_dow_0                 uint32\n",
      "tot_dow_1                 uint32\n",
      "tot_dow_2                 uint32\n",
      "tot_dow_3                 uint32\n",
      "tot_dow_4                 uint32\n",
      "tot_dow_5                 uint32\n",
      "tot_dow_6                 uint32\n",
      "tot_dow_7                 uint32\n",
      "dtypes: uint32(10), uint64(2), uint8(10)\n",
      "memory usage: 738.2 MB\n"
     ]
    }
   ],
   "source": [
    "df_w2.info()"
   ]
  },
  {
   "cell_type": "markdown",
   "metadata": {
    "colab_type": "text",
    "id": "0jJ2nukPdya3"
   },
   "source": [
    "### prop_dow\n",
    "\n",
    "We can get the day_of_week proportion of their total visits by just dividing with freq. Reasoning: If someone has visited 10 times and 9 out of 10 were on Sunay, they are likely to visit again on a Sunday. Non visits is calculated slightly differently because we want the proportion of non visits of out the full timerange"
   ]
  },
  {
   "cell_type": "code",
   "execution_count": null,
   "metadata": {
    "colab": {},
    "colab_type": "code",
    "id": "No4EqdCBdya4"
   },
   "outputs": [],
   "source": [
    "df_w2['prop_dow_0'] = pd.to_numeric(df_w2['tot_dow_0'] / (df_w2['freq'] + df_w2['tot_dow_0']), downcast = 'float')\n",
    "df_w2['prop_dow_1'] = pd.to_numeric(df_w2['tot_dow_1'] / df_w2['freq'], downcast = 'float')\n",
    "df_w2['prop_dow_2'] = pd.to_numeric(df_w2['tot_dow_2'] / df_w2['freq'], downcast = 'float')\n",
    "df_w2['prop_dow_3'] = pd.to_numeric(df_w2['tot_dow_3'] / df_w2['freq'], downcast = 'float')\n",
    "df_w2['prop_dow_4'] = pd.to_numeric(df_w2['tot_dow_4'] / df_w2['freq'], downcast = 'float')\n",
    "df_w2['prop_dow_5'] = pd.to_numeric(df_w2['tot_dow_5'] / df_w2['freq'], downcast = 'float')\n",
    "df_w2['prop_dow_6'] = pd.to_numeric(df_w2['tot_dow_6'] / df_w2['freq'], downcast = 'float')\n",
    "df_w2['prop_dow_7'] = pd.to_numeric(df_w2['tot_dow_7'] / df_w2['freq'], downcast = 'float')"
   ]
  },
  {
   "cell_type": "code",
   "execution_count": 78,
   "metadata": {
    "colab": {
     "base_uri": "https://localhost:8080/",
     "height": 624
    },
    "colab_type": "code",
    "executionInfo": {
     "elapsed": 12058,
     "status": "ok",
     "timestamp": 1563846481677,
     "user": {
      "displayName": "Cloud Machine",
      "photoUrl": "",
      "userId": "03543453517966682716"
     },
     "user_tz": -60
    },
    "id": "uEMlBjnddya7",
    "outputId": "a68bb493-c4b1-45de-83f6-aaf13709c731"
   },
   "outputs": [
    {
     "name": "stdout",
     "output_type": "stream",
     "text": [
      "<class 'pandas.core.frame.DataFrame'>\n",
      "RangeIndex: 11728444 entries, 0 to 11728443\n",
      "Data columns (total 30 columns):\n",
      "visitor_id                uint64\n",
      "week_number               uint64\n",
      "dow_1                     uint8\n",
      "dow_2                     uint8\n",
      "dow_3                     uint8\n",
      "dow_4                     uint8\n",
      "dow_5                     uint8\n",
      "dow_6                     uint8\n",
      "dow_7                     uint8\n",
      "total_visits_in_week      uint8\n",
      "freq                      uint32\n",
      "any_visit_ind             uint8\n",
      "dow_0                     uint8\n",
      "weeks_since_prev_visit    uint32\n",
      "tot_dow_0                 uint32\n",
      "tot_dow_1                 uint32\n",
      "tot_dow_2                 uint32\n",
      "tot_dow_3                 uint32\n",
      "tot_dow_4                 uint32\n",
      "tot_dow_5                 uint32\n",
      "tot_dow_6                 uint32\n",
      "tot_dow_7                 uint32\n",
      "prop_dow_0                float32\n",
      "prop_dow_1                float32\n",
      "prop_dow_2                float32\n",
      "prop_dow_3                float32\n",
      "prop_dow_4                float32\n",
      "prop_dow_5                float32\n",
      "prop_dow_6                float32\n",
      "prop_dow_7                float32\n",
      "dtypes: float32(8), uint32(10), uint64(2), uint8(10)\n",
      "memory usage: 1.1 GB\n"
     ]
    }
   ],
   "source": [
    "df_w2.info()"
   ]
  },
  {
   "cell_type": "markdown",
   "metadata": {
    "colab_type": "text",
    "id": "EufbR50KdybE"
   },
   "source": [
    "Finally we need to shift all the features to the next time period. When we are predicting we are going to use the previous week information to predict this week"
   ]
  },
  {
   "cell_type": "code",
   "execution_count": null,
   "metadata": {
    "colab": {},
    "colab_type": "code",
    "id": "wP65d9OedybG"
   },
   "outputs": [],
   "source": [
    "df_w2.to_feather('df_w2')"
   ]
  },
  {
   "cell_type": "code",
   "execution_count": null,
   "metadata": {
    "colab": {},
    "colab_type": "code",
    "id": "aJMG8g8qdybI"
   },
   "outputs": [],
   "source": [
    "df_w2 = pd.read_feather('df_w2')"
   ]
  },
  {
   "cell_type": "markdown",
   "metadata": {
    "colab_type": "text",
    "id": "TQ0kc_MOdybL"
   },
   "source": [
    "## Shift features 1 period\n",
    "\n",
    "Get a list of features to shift"
   ]
  },
  {
   "cell_type": "code",
   "execution_count": 82,
   "metadata": {
    "colab": {
     "base_uri": "https://localhost:8080/",
     "height": 329
    },
    "colab_type": "code",
    "executionInfo": {
     "elapsed": 9568,
     "status": "ok",
     "timestamp": 1563846514503,
     "user": {
      "displayName": "Cloud Machine",
      "photoUrl": "",
      "userId": "03543453517966682716"
     },
     "user_tz": -60
    },
    "id": "3LP8yUn6dybL",
    "outputId": "ebacbd94-ae62-42d0-ec95-9f12b047cb59"
   },
   "outputs": [
    {
     "data": {
      "text/plain": [
       "['tot_dow_0',\n",
       " 'tot_dow_1',\n",
       " 'tot_dow_2',\n",
       " 'tot_dow_3',\n",
       " 'tot_dow_4',\n",
       " 'tot_dow_5',\n",
       " 'tot_dow_6',\n",
       " 'tot_dow_7',\n",
       " 'prop_dow_0',\n",
       " 'prop_dow_1',\n",
       " 'prop_dow_2',\n",
       " 'prop_dow_3',\n",
       " 'prop_dow_4',\n",
       " 'prop_dow_5',\n",
       " 'prop_dow_6',\n",
       " 'prop_dow_7',\n",
       " 'freq',\n",
       " 'weeks_since_prev_visit']"
      ]
     },
     "execution_count": 82,
     "metadata": {
      "tags": []
     },
     "output_type": "execute_result"
    }
   ],
   "source": [
    "features_tot_dow = list(df_w2.columns[df_w2.columns.str.contains('tot_dow')].values)\n",
    "features_prop_dow = list(df_w2.columns[df_w2.columns.str.contains('prop_dow')].values)\n",
    "features_other = ['freq', 'weeks_since_prev_visit']\n",
    "features = []\n",
    "features.extend(features_tot_dow)\n",
    "features.extend(features_prop_dow)\n",
    "features.extend(features_other)\n",
    "features"
   ]
  },
  {
   "cell_type": "code",
   "execution_count": null,
   "metadata": {
    "colab": {},
    "colab_type": "code",
    "id": "uIdZrE2hdybQ"
   },
   "outputs": [],
   "source": [
    "df_w2[features] = df_w2.groupby('visitor_id')[features].shift(1)"
   ]
  },
  {
   "cell_type": "code",
   "execution_count": 84,
   "metadata": {
    "colab": {
     "base_uri": "https://localhost:8080/",
     "height": 624
    },
    "colab_type": "code",
    "executionInfo": {
     "elapsed": 22296,
     "status": "ok",
     "timestamp": 1563846527309,
     "user": {
      "displayName": "Cloud Machine",
      "photoUrl": "",
      "userId": "03543453517966682716"
     },
     "user_tz": -60
    },
    "id": "MC6VUneXdybS",
    "outputId": "9d2384d3-048c-44c8-fcb5-747f72c6d2fa"
   },
   "outputs": [
    {
     "name": "stdout",
     "output_type": "stream",
     "text": [
      "<class 'pandas.core.frame.DataFrame'>\n",
      "RangeIndex: 11728444 entries, 0 to 11728443\n",
      "Data columns (total 30 columns):\n",
      "visitor_id                uint64\n",
      "week_number               uint64\n",
      "dow_1                     uint8\n",
      "dow_2                     uint8\n",
      "dow_3                     uint8\n",
      "dow_4                     uint8\n",
      "dow_5                     uint8\n",
      "dow_6                     uint8\n",
      "dow_7                     uint8\n",
      "total_visits_in_week      uint8\n",
      "freq                      float64\n",
      "any_visit_ind             uint8\n",
      "dow_0                     uint8\n",
      "weeks_since_prev_visit    float64\n",
      "tot_dow_0                 float64\n",
      "tot_dow_1                 float64\n",
      "tot_dow_2                 float64\n",
      "tot_dow_3                 float64\n",
      "tot_dow_4                 float64\n",
      "tot_dow_5                 float64\n",
      "tot_dow_6                 float64\n",
      "tot_dow_7                 float64\n",
      "prop_dow_0                float32\n",
      "prop_dow_1                float32\n",
      "prop_dow_2                float32\n",
      "prop_dow_3                float32\n",
      "prop_dow_4                float32\n",
      "prop_dow_5                float32\n",
      "prop_dow_6                float32\n",
      "prop_dow_7                float32\n",
      "dtypes: float32(8), float64(10), uint64(2), uint8(10)\n",
      "memory usage: 1.5 GB\n"
     ]
    }
   ],
   "source": [
    "df_w2.info()"
   ]
  },
  {
   "cell_type": "markdown",
   "metadata": {
    "colab_type": "text",
    "id": "-j2XM4iFdybW"
   },
   "source": [
    "Again we need to downcast all the float64 values"
   ]
  },
  {
   "cell_type": "code",
   "execution_count": null,
   "metadata": {
    "colab": {},
    "colab_type": "code",
    "id": "VZRoyrQzdybX"
   },
   "outputs": [],
   "source": [
    "df_w2_float = df_w2.select_dtypes(include=['float']).columns\n",
    "df_w2[df_w2_float] = df_w2[df_w2_float].apply(pd.to_numeric, downcast='float')"
   ]
  },
  {
   "cell_type": "code",
   "execution_count": 86,
   "metadata": {
    "colab": {
     "base_uri": "https://localhost:8080/",
     "height": 222
    },
    "colab_type": "code",
    "executionInfo": {
     "elapsed": 24803,
     "status": "ok",
     "timestamp": 1563846529893,
     "user": {
      "displayName": "Cloud Machine",
      "photoUrl": "",
      "userId": "03543453517966682716"
     },
     "user_tz": -60
    },
    "id": "Qd_b7JNYdyba",
    "outputId": "334be453-bf49-429e-b0e6-8112c2dc94a9"
   },
   "outputs": [
    {
     "data": {
      "text/html": [
       "<div>\n",
       "<style scoped>\n",
       "    .dataframe tbody tr th:only-of-type {\n",
       "        vertical-align: middle;\n",
       "    }\n",
       "\n",
       "    .dataframe tbody tr th {\n",
       "        vertical-align: top;\n",
       "    }\n",
       "\n",
       "    .dataframe thead th {\n",
       "        text-align: right;\n",
       "    }\n",
       "</style>\n",
       "<table border=\"1\" class=\"dataframe\">\n",
       "  <thead>\n",
       "    <tr style=\"text-align: right;\">\n",
       "      <th></th>\n",
       "      <th>visitor_id</th>\n",
       "      <th>week_number</th>\n",
       "      <th>dow_1</th>\n",
       "      <th>dow_2</th>\n",
       "      <th>dow_3</th>\n",
       "      <th>dow_4</th>\n",
       "      <th>dow_5</th>\n",
       "      <th>dow_6</th>\n",
       "      <th>dow_7</th>\n",
       "      <th>total_visits_in_week</th>\n",
       "      <th>freq</th>\n",
       "      <th>any_visit_ind</th>\n",
       "      <th>dow_0</th>\n",
       "      <th>weeks_since_prev_visit</th>\n",
       "      <th>tot_dow_0</th>\n",
       "      <th>tot_dow_1</th>\n",
       "      <th>tot_dow_2</th>\n",
       "      <th>tot_dow_3</th>\n",
       "      <th>tot_dow_4</th>\n",
       "      <th>tot_dow_5</th>\n",
       "      <th>tot_dow_6</th>\n",
       "      <th>tot_dow_7</th>\n",
       "      <th>prop_dow_0</th>\n",
       "      <th>prop_dow_1</th>\n",
       "      <th>prop_dow_2</th>\n",
       "      <th>prop_dow_3</th>\n",
       "      <th>prop_dow_4</th>\n",
       "      <th>prop_dow_5</th>\n",
       "      <th>prop_dow_6</th>\n",
       "      <th>prop_dow_7</th>\n",
       "    </tr>\n",
       "  </thead>\n",
       "  <tbody>\n",
       "    <tr>\n",
       "      <th>0</th>\n",
       "      <td>1</td>\n",
       "      <td>5</td>\n",
       "      <td>0</td>\n",
       "      <td>1</td>\n",
       "      <td>0</td>\n",
       "      <td>0</td>\n",
       "      <td>0</td>\n",
       "      <td>0</td>\n",
       "      <td>0</td>\n",
       "      <td>1</td>\n",
       "      <td>NaN</td>\n",
       "      <td>1</td>\n",
       "      <td>0</td>\n",
       "      <td>NaN</td>\n",
       "      <td>NaN</td>\n",
       "      <td>NaN</td>\n",
       "      <td>NaN</td>\n",
       "      <td>NaN</td>\n",
       "      <td>NaN</td>\n",
       "      <td>NaN</td>\n",
       "      <td>NaN</td>\n",
       "      <td>NaN</td>\n",
       "      <td>NaN</td>\n",
       "      <td>NaN</td>\n",
       "      <td>NaN</td>\n",
       "      <td>NaN</td>\n",
       "      <td>NaN</td>\n",
       "      <td>NaN</td>\n",
       "      <td>NaN</td>\n",
       "      <td>NaN</td>\n",
       "    </tr>\n",
       "    <tr>\n",
       "      <th>1</th>\n",
       "      <td>1</td>\n",
       "      <td>6</td>\n",
       "      <td>0</td>\n",
       "      <td>0</td>\n",
       "      <td>0</td>\n",
       "      <td>0</td>\n",
       "      <td>0</td>\n",
       "      <td>0</td>\n",
       "      <td>0</td>\n",
       "      <td>0</td>\n",
       "      <td>1.0</td>\n",
       "      <td>0</td>\n",
       "      <td>1</td>\n",
       "      <td>1.0</td>\n",
       "      <td>0.0</td>\n",
       "      <td>0.0</td>\n",
       "      <td>1.0</td>\n",
       "      <td>0.0</td>\n",
       "      <td>0.0</td>\n",
       "      <td>0.0</td>\n",
       "      <td>0.0</td>\n",
       "      <td>0.0</td>\n",
       "      <td>0.000000</td>\n",
       "      <td>0.0</td>\n",
       "      <td>1.0</td>\n",
       "      <td>0.0</td>\n",
       "      <td>0.0</td>\n",
       "      <td>0.0</td>\n",
       "      <td>0.0</td>\n",
       "      <td>0.0</td>\n",
       "    </tr>\n",
       "    <tr>\n",
       "      <th>2</th>\n",
       "      <td>1</td>\n",
       "      <td>7</td>\n",
       "      <td>0</td>\n",
       "      <td>0</td>\n",
       "      <td>0</td>\n",
       "      <td>0</td>\n",
       "      <td>0</td>\n",
       "      <td>0</td>\n",
       "      <td>0</td>\n",
       "      <td>0</td>\n",
       "      <td>1.0</td>\n",
       "      <td>0</td>\n",
       "      <td>1</td>\n",
       "      <td>2.0</td>\n",
       "      <td>1.0</td>\n",
       "      <td>0.0</td>\n",
       "      <td>1.0</td>\n",
       "      <td>0.0</td>\n",
       "      <td>0.0</td>\n",
       "      <td>0.0</td>\n",
       "      <td>0.0</td>\n",
       "      <td>0.0</td>\n",
       "      <td>0.500000</td>\n",
       "      <td>0.0</td>\n",
       "      <td>1.0</td>\n",
       "      <td>0.0</td>\n",
       "      <td>0.0</td>\n",
       "      <td>0.0</td>\n",
       "      <td>0.0</td>\n",
       "      <td>0.0</td>\n",
       "    </tr>\n",
       "    <tr>\n",
       "      <th>3</th>\n",
       "      <td>1</td>\n",
       "      <td>8</td>\n",
       "      <td>0</td>\n",
       "      <td>0</td>\n",
       "      <td>0</td>\n",
       "      <td>0</td>\n",
       "      <td>0</td>\n",
       "      <td>0</td>\n",
       "      <td>0</td>\n",
       "      <td>0</td>\n",
       "      <td>1.0</td>\n",
       "      <td>0</td>\n",
       "      <td>1</td>\n",
       "      <td>3.0</td>\n",
       "      <td>2.0</td>\n",
       "      <td>0.0</td>\n",
       "      <td>1.0</td>\n",
       "      <td>0.0</td>\n",
       "      <td>0.0</td>\n",
       "      <td>0.0</td>\n",
       "      <td>0.0</td>\n",
       "      <td>0.0</td>\n",
       "      <td>0.666667</td>\n",
       "      <td>0.0</td>\n",
       "      <td>1.0</td>\n",
       "      <td>0.0</td>\n",
       "      <td>0.0</td>\n",
       "      <td>0.0</td>\n",
       "      <td>0.0</td>\n",
       "      <td>0.0</td>\n",
       "    </tr>\n",
       "    <tr>\n",
       "      <th>4</th>\n",
       "      <td>1</td>\n",
       "      <td>9</td>\n",
       "      <td>0</td>\n",
       "      <td>0</td>\n",
       "      <td>0</td>\n",
       "      <td>0</td>\n",
       "      <td>0</td>\n",
       "      <td>0</td>\n",
       "      <td>0</td>\n",
       "      <td>0</td>\n",
       "      <td>1.0</td>\n",
       "      <td>0</td>\n",
       "      <td>1</td>\n",
       "      <td>4.0</td>\n",
       "      <td>3.0</td>\n",
       "      <td>0.0</td>\n",
       "      <td>1.0</td>\n",
       "      <td>0.0</td>\n",
       "      <td>0.0</td>\n",
       "      <td>0.0</td>\n",
       "      <td>0.0</td>\n",
       "      <td>0.0</td>\n",
       "      <td>0.750000</td>\n",
       "      <td>0.0</td>\n",
       "      <td>1.0</td>\n",
       "      <td>0.0</td>\n",
       "      <td>0.0</td>\n",
       "      <td>0.0</td>\n",
       "      <td>0.0</td>\n",
       "      <td>0.0</td>\n",
       "    </tr>\n",
       "  </tbody>\n",
       "</table>\n",
       "</div>"
      ],
      "text/plain": [
       "   visitor_id  week_number  dow_1  dow_2  dow_3  dow_4  dow_5  dow_6  dow_7  \\\n",
       "0           1            5      0      1      0      0      0      0      0   \n",
       "1           1            6      0      0      0      0      0      0      0   \n",
       "2           1            7      0      0      0      0      0      0      0   \n",
       "3           1            8      0      0      0      0      0      0      0   \n",
       "4           1            9      0      0      0      0      0      0      0   \n",
       "\n",
       "   total_visits_in_week  freq  any_visit_ind  dow_0  weeks_since_prev_visit  \\\n",
       "0                     1   NaN              1      0                     NaN   \n",
       "1                     0   1.0              0      1                     1.0   \n",
       "2                     0   1.0              0      1                     2.0   \n",
       "3                     0   1.0              0      1                     3.0   \n",
       "4                     0   1.0              0      1                     4.0   \n",
       "\n",
       "   tot_dow_0  tot_dow_1  tot_dow_2  tot_dow_3  tot_dow_4  tot_dow_5  \\\n",
       "0        NaN        NaN        NaN        NaN        NaN        NaN   \n",
       "1        0.0        0.0        1.0        0.0        0.0        0.0   \n",
       "2        1.0        0.0        1.0        0.0        0.0        0.0   \n",
       "3        2.0        0.0        1.0        0.0        0.0        0.0   \n",
       "4        3.0        0.0        1.0        0.0        0.0        0.0   \n",
       "\n",
       "   tot_dow_6  tot_dow_7  prop_dow_0  prop_dow_1  prop_dow_2  prop_dow_3  \\\n",
       "0        NaN        NaN         NaN         NaN         NaN         NaN   \n",
       "1        0.0        0.0    0.000000         0.0         1.0         0.0   \n",
       "2        0.0        0.0    0.500000         0.0         1.0         0.0   \n",
       "3        0.0        0.0    0.666667         0.0         1.0         0.0   \n",
       "4        0.0        0.0    0.750000         0.0         1.0         0.0   \n",
       "\n",
       "   prop_dow_4  prop_dow_5  prop_dow_6  prop_dow_7  \n",
       "0         NaN         NaN         NaN         NaN  \n",
       "1         0.0         0.0         0.0         0.0  \n",
       "2         0.0         0.0         0.0         0.0  \n",
       "3         0.0         0.0         0.0         0.0  \n",
       "4         0.0         0.0         0.0         0.0  "
      ]
     },
     "metadata": {
      "tags": []
     },
     "output_type": "display_data"
    }
   ],
   "source": [
    "display_all(df_w2.head())"
   ]
  },
  {
   "cell_type": "markdown",
   "metadata": {
    "colab_type": "text",
    "id": "8UFhEA_pdybf"
   },
   "source": [
    "We have 42 mil records so I will just remove the 80000 missing values. These are the first visits for every customer"
   ]
  },
  {
   "cell_type": "code",
   "execution_count": null,
   "metadata": {
    "colab": {},
    "colab_type": "code",
    "id": "AfOl7M-jdybf"
   },
   "outputs": [],
   "source": [
    "df_w2 = df_w2.loc[~(df_w2['freq'].isnull())].reset_index(drop = True)"
   ]
  },
  {
   "cell_type": "code",
   "execution_count": 88,
   "metadata": {
    "colab": {
     "base_uri": "https://localhost:8080/",
     "height": 222
    },
    "colab_type": "code",
    "executionInfo": {
     "elapsed": 27059,
     "status": "ok",
     "timestamp": 1563846532215,
     "user": {
      "displayName": "Cloud Machine",
      "photoUrl": "",
      "userId": "03543453517966682716"
     },
     "user_tz": -60
    },
    "id": "J3G3lwZxdybi",
    "outputId": "762093a6-4406-4ef9-a55d-fcb387552d4b"
   },
   "outputs": [
    {
     "data": {
      "text/html": [
       "<div>\n",
       "<style scoped>\n",
       "    .dataframe tbody tr th:only-of-type {\n",
       "        vertical-align: middle;\n",
       "    }\n",
       "\n",
       "    .dataframe tbody tr th {\n",
       "        vertical-align: top;\n",
       "    }\n",
       "\n",
       "    .dataframe thead th {\n",
       "        text-align: right;\n",
       "    }\n",
       "</style>\n",
       "<table border=\"1\" class=\"dataframe\">\n",
       "  <thead>\n",
       "    <tr style=\"text-align: right;\">\n",
       "      <th></th>\n",
       "      <th>visitor_id</th>\n",
       "      <th>week_number</th>\n",
       "      <th>dow_1</th>\n",
       "      <th>dow_2</th>\n",
       "      <th>dow_3</th>\n",
       "      <th>dow_4</th>\n",
       "      <th>dow_5</th>\n",
       "      <th>dow_6</th>\n",
       "      <th>dow_7</th>\n",
       "      <th>total_visits_in_week</th>\n",
       "      <th>freq</th>\n",
       "      <th>any_visit_ind</th>\n",
       "      <th>dow_0</th>\n",
       "      <th>weeks_since_prev_visit</th>\n",
       "      <th>tot_dow_0</th>\n",
       "      <th>tot_dow_1</th>\n",
       "      <th>tot_dow_2</th>\n",
       "      <th>tot_dow_3</th>\n",
       "      <th>tot_dow_4</th>\n",
       "      <th>tot_dow_5</th>\n",
       "      <th>tot_dow_6</th>\n",
       "      <th>tot_dow_7</th>\n",
       "      <th>prop_dow_0</th>\n",
       "      <th>prop_dow_1</th>\n",
       "      <th>prop_dow_2</th>\n",
       "      <th>prop_dow_3</th>\n",
       "      <th>prop_dow_4</th>\n",
       "      <th>prop_dow_5</th>\n",
       "      <th>prop_dow_6</th>\n",
       "      <th>prop_dow_7</th>\n",
       "    </tr>\n",
       "  </thead>\n",
       "  <tbody>\n",
       "    <tr>\n",
       "      <th>0</th>\n",
       "      <td>1</td>\n",
       "      <td>6</td>\n",
       "      <td>0</td>\n",
       "      <td>0</td>\n",
       "      <td>0</td>\n",
       "      <td>0</td>\n",
       "      <td>0</td>\n",
       "      <td>0</td>\n",
       "      <td>0</td>\n",
       "      <td>0</td>\n",
       "      <td>1.0</td>\n",
       "      <td>0</td>\n",
       "      <td>1</td>\n",
       "      <td>1.0</td>\n",
       "      <td>0.0</td>\n",
       "      <td>0.0</td>\n",
       "      <td>1.0</td>\n",
       "      <td>0.0</td>\n",
       "      <td>0.0</td>\n",
       "      <td>0.0</td>\n",
       "      <td>0.0</td>\n",
       "      <td>0.0</td>\n",
       "      <td>0.000000</td>\n",
       "      <td>0.0</td>\n",
       "      <td>1.0</td>\n",
       "      <td>0.0</td>\n",
       "      <td>0.0</td>\n",
       "      <td>0.0</td>\n",
       "      <td>0.0</td>\n",
       "      <td>0.0</td>\n",
       "    </tr>\n",
       "    <tr>\n",
       "      <th>1</th>\n",
       "      <td>1</td>\n",
       "      <td>7</td>\n",
       "      <td>0</td>\n",
       "      <td>0</td>\n",
       "      <td>0</td>\n",
       "      <td>0</td>\n",
       "      <td>0</td>\n",
       "      <td>0</td>\n",
       "      <td>0</td>\n",
       "      <td>0</td>\n",
       "      <td>1.0</td>\n",
       "      <td>0</td>\n",
       "      <td>1</td>\n",
       "      <td>2.0</td>\n",
       "      <td>1.0</td>\n",
       "      <td>0.0</td>\n",
       "      <td>1.0</td>\n",
       "      <td>0.0</td>\n",
       "      <td>0.0</td>\n",
       "      <td>0.0</td>\n",
       "      <td>0.0</td>\n",
       "      <td>0.0</td>\n",
       "      <td>0.500000</td>\n",
       "      <td>0.0</td>\n",
       "      <td>1.0</td>\n",
       "      <td>0.0</td>\n",
       "      <td>0.0</td>\n",
       "      <td>0.0</td>\n",
       "      <td>0.0</td>\n",
       "      <td>0.0</td>\n",
       "    </tr>\n",
       "    <tr>\n",
       "      <th>2</th>\n",
       "      <td>1</td>\n",
       "      <td>8</td>\n",
       "      <td>0</td>\n",
       "      <td>0</td>\n",
       "      <td>0</td>\n",
       "      <td>0</td>\n",
       "      <td>0</td>\n",
       "      <td>0</td>\n",
       "      <td>0</td>\n",
       "      <td>0</td>\n",
       "      <td>1.0</td>\n",
       "      <td>0</td>\n",
       "      <td>1</td>\n",
       "      <td>3.0</td>\n",
       "      <td>2.0</td>\n",
       "      <td>0.0</td>\n",
       "      <td>1.0</td>\n",
       "      <td>0.0</td>\n",
       "      <td>0.0</td>\n",
       "      <td>0.0</td>\n",
       "      <td>0.0</td>\n",
       "      <td>0.0</td>\n",
       "      <td>0.666667</td>\n",
       "      <td>0.0</td>\n",
       "      <td>1.0</td>\n",
       "      <td>0.0</td>\n",
       "      <td>0.0</td>\n",
       "      <td>0.0</td>\n",
       "      <td>0.0</td>\n",
       "      <td>0.0</td>\n",
       "    </tr>\n",
       "    <tr>\n",
       "      <th>3</th>\n",
       "      <td>1</td>\n",
       "      <td>9</td>\n",
       "      <td>0</td>\n",
       "      <td>0</td>\n",
       "      <td>0</td>\n",
       "      <td>0</td>\n",
       "      <td>0</td>\n",
       "      <td>0</td>\n",
       "      <td>0</td>\n",
       "      <td>0</td>\n",
       "      <td>1.0</td>\n",
       "      <td>0</td>\n",
       "      <td>1</td>\n",
       "      <td>4.0</td>\n",
       "      <td>3.0</td>\n",
       "      <td>0.0</td>\n",
       "      <td>1.0</td>\n",
       "      <td>0.0</td>\n",
       "      <td>0.0</td>\n",
       "      <td>0.0</td>\n",
       "      <td>0.0</td>\n",
       "      <td>0.0</td>\n",
       "      <td>0.750000</td>\n",
       "      <td>0.0</td>\n",
       "      <td>1.0</td>\n",
       "      <td>0.0</td>\n",
       "      <td>0.0</td>\n",
       "      <td>0.0</td>\n",
       "      <td>0.0</td>\n",
       "      <td>0.0</td>\n",
       "    </tr>\n",
       "    <tr>\n",
       "      <th>4</th>\n",
       "      <td>1</td>\n",
       "      <td>10</td>\n",
       "      <td>0</td>\n",
       "      <td>0</td>\n",
       "      <td>0</td>\n",
       "      <td>0</td>\n",
       "      <td>0</td>\n",
       "      <td>0</td>\n",
       "      <td>0</td>\n",
       "      <td>0</td>\n",
       "      <td>1.0</td>\n",
       "      <td>0</td>\n",
       "      <td>1</td>\n",
       "      <td>5.0</td>\n",
       "      <td>4.0</td>\n",
       "      <td>0.0</td>\n",
       "      <td>1.0</td>\n",
       "      <td>0.0</td>\n",
       "      <td>0.0</td>\n",
       "      <td>0.0</td>\n",
       "      <td>0.0</td>\n",
       "      <td>0.0</td>\n",
       "      <td>0.800000</td>\n",
       "      <td>0.0</td>\n",
       "      <td>1.0</td>\n",
       "      <td>0.0</td>\n",
       "      <td>0.0</td>\n",
       "      <td>0.0</td>\n",
       "      <td>0.0</td>\n",
       "      <td>0.0</td>\n",
       "    </tr>\n",
       "  </tbody>\n",
       "</table>\n",
       "</div>"
      ],
      "text/plain": [
       "   visitor_id  week_number  dow_1  dow_2  dow_3  dow_4  dow_5  dow_6  dow_7  \\\n",
       "0           1            6      0      0      0      0      0      0      0   \n",
       "1           1            7      0      0      0      0      0      0      0   \n",
       "2           1            8      0      0      0      0      0      0      0   \n",
       "3           1            9      0      0      0      0      0      0      0   \n",
       "4           1           10      0      0      0      0      0      0      0   \n",
       "\n",
       "   total_visits_in_week  freq  any_visit_ind  dow_0  weeks_since_prev_visit  \\\n",
       "0                     0   1.0              0      1                     1.0   \n",
       "1                     0   1.0              0      1                     2.0   \n",
       "2                     0   1.0              0      1                     3.0   \n",
       "3                     0   1.0              0      1                     4.0   \n",
       "4                     0   1.0              0      1                     5.0   \n",
       "\n",
       "   tot_dow_0  tot_dow_1  tot_dow_2  tot_dow_3  tot_dow_4  tot_dow_5  \\\n",
       "0        0.0        0.0        1.0        0.0        0.0        0.0   \n",
       "1        1.0        0.0        1.0        0.0        0.0        0.0   \n",
       "2        2.0        0.0        1.0        0.0        0.0        0.0   \n",
       "3        3.0        0.0        1.0        0.0        0.0        0.0   \n",
       "4        4.0        0.0        1.0        0.0        0.0        0.0   \n",
       "\n",
       "   tot_dow_6  tot_dow_7  prop_dow_0  prop_dow_1  prop_dow_2  prop_dow_3  \\\n",
       "0        0.0        0.0    0.000000         0.0         1.0         0.0   \n",
       "1        0.0        0.0    0.500000         0.0         1.0         0.0   \n",
       "2        0.0        0.0    0.666667         0.0         1.0         0.0   \n",
       "3        0.0        0.0    0.750000         0.0         1.0         0.0   \n",
       "4        0.0        0.0    0.800000         0.0         1.0         0.0   \n",
       "\n",
       "   prop_dow_4  prop_dow_5  prop_dow_6  prop_dow_7  \n",
       "0         0.0         0.0         0.0         0.0  \n",
       "1         0.0         0.0         0.0         0.0  \n",
       "2         0.0         0.0         0.0         0.0  \n",
       "3         0.0         0.0         0.0         0.0  \n",
       "4         0.0         0.0         0.0         0.0  "
      ]
     },
     "metadata": {
      "tags": []
     },
     "output_type": "display_data"
    }
   ],
   "source": [
    "display_all(df_w2.head())"
   ]
  },
  {
   "cell_type": "code",
   "execution_count": null,
   "metadata": {
    "colab": {},
    "colab_type": "code",
    "id": "IKpTqln8dybs"
   },
   "outputs": [],
   "source": [
    "df_w2.to_feather('df_w3')"
   ]
  },
  {
   "cell_type": "code",
   "execution_count": null,
   "metadata": {
    "colab": {},
    "colab_type": "code",
    "id": "_E7AOCjUdybw"
   },
   "outputs": [],
   "source": [
    "#del df_w\n",
    "#del df_w1\n",
    "del df_w2"
   ]
  },
  {
   "cell_type": "markdown",
   "metadata": {
    "colab_type": "text",
    "id": "zFFqkJ8Ddyby"
   },
   "source": [
    "## Model Building Prep\n",
    "\n",
    "Finally, we can start the fun part. I decided to use random forest to solve each binary classification. Why only RF? RF is a fairly robust algorithm which has proven to be a top performer in most modelling problems. I also do not have time to try many different models."
   ]
  },
  {
   "cell_type": "code",
   "execution_count": null,
   "metadata": {
    "colab": {},
    "colab_type": "code",
    "id": "OAGFy0JSdybz"
   },
   "outputs": [],
   "source": [
    "df = pd.read_feather('df_w3')"
   ]
  },
  {
   "cell_type": "code",
   "execution_count": 98,
   "metadata": {
    "colab": {
     "base_uri": "https://localhost:8080/",
     "height": 34
    },
    "colab_type": "code",
    "executionInfo": {
     "elapsed": 834,
     "status": "ok",
     "timestamp": 1563846585588,
     "user": {
      "displayName": "Cloud Machine",
      "photoUrl": "",
      "userId": "03543453517966682716"
     },
     "user_tz": -60
    },
    "id": "5_CczVuEdyb2",
    "outputId": "13c4a872-e706-49b6-9917-3b5ebab58896"
   },
   "outputs": [
    {
     "data": {
      "text/plain": [
       "(11645487, 30)"
      ]
     },
     "execution_count": 98,
     "metadata": {
      "tags": []
     },
     "output_type": "execute_result"
    }
   ],
   "source": [
    "df.shape"
   ]
  },
  {
   "cell_type": "markdown",
   "metadata": {
    "colab_type": "text",
    "id": "Dii8akm4dyb_"
   },
   "source": [
    "For the training set we will use the weeks spanning 130-140. These weeks are closest to the test and validation sets. The valid, test and final test will be the last 3 weeks in our data. I didn't need to make test_final but decided it would be better to have another test to make sure the model is generalizing well "
   ]
  },
  {
   "cell_type": "code",
   "execution_count": null,
   "metadata": {
    "colab": {},
    "colab_type": "code",
    "id": "joxxB9DidycA"
   },
   "outputs": [],
   "source": [
    "test_final = df.loc[df['week_number'] == 143]\n",
    "test = df.loc[df['week_number'] == 142]\n",
    "valid = df.loc[df['week_number'] == 141]\n",
    "train = df.loc[df['week_number'].isin(range(130, 141))]"
   ]
  },
  {
   "cell_type": "code",
   "execution_count": 100,
   "metadata": {
    "colab": {
     "base_uri": "https://localhost:8080/",
     "height": 86
    },
    "colab_type": "code",
    "executionInfo": {
     "elapsed": 855,
     "status": "ok",
     "timestamp": 1563846588846,
     "user": {
      "displayName": "Cloud Machine",
      "photoUrl": "",
      "userId": "03543453517966682716"
     },
     "user_tz": -60
    },
    "id": "hSD6cI_udycI",
    "outputId": "64c4bba1-026e-4abf-9039-55bef1f3d2b1"
   },
   "outputs": [
    {
     "name": "stdout",
     "output_type": "stream",
     "text": [
      "(82957, 30)\n",
      "(82957, 30)\n",
      "(82957, 30)\n",
      "(912527, 30)\n"
     ]
    }
   ],
   "source": [
    "print(test.shape)\n",
    "print(test_final.shape)\n",
    "print(valid.shape)\n",
    "print(train.shape)"
   ]
  },
  {
   "cell_type": "code",
   "execution_count": null,
   "metadata": {
    "colab": {},
    "colab_type": "code",
    "id": "WGzJLiX7dycP"
   },
   "outputs": [],
   "source": [
    "features_tot_dow = list(df.columns[df.columns.str.contains('tot_dow')].values)\n",
    "features_prop_dow = list(df.columns[df.columns.str.contains('prop_dow')].values)\n",
    "features_other = ['freq', 'weeks_since_prev_visit']\n",
    "features = []\n",
    "features.extend(features_tot_dow)\n",
    "features.extend(features_prop_dow)\n",
    "features.extend(features_other)"
   ]
  },
  {
   "cell_type": "markdown",
   "metadata": {
    "colab_type": "text",
    "id": "Iajs-WB4dycT"
   },
   "source": [
    "I have removed the below features after investigating the plots in the next section. "
   ]
  },
  {
   "cell_type": "code",
   "execution_count": null,
   "metadata": {
    "colab": {},
    "colab_type": "code",
    "id": "nrd4bDckdycT"
   },
   "outputs": [],
   "source": [
    "features.remove('tot_dow_0') # correlated with prop_dow_0\n",
    "features.remove('freq') # correlated with prop_dow_0"
   ]
  },
  {
   "cell_type": "code",
   "execution_count": null,
   "metadata": {
    "colab": {},
    "colab_type": "code",
    "id": "N1q2ilmqdycW"
   },
   "outputs": [],
   "source": [
    "targets = ['dow_0', 'dow_1', 'dow_2', 'dow_3', 'dow_4', 'dow_5', 'dow_6', 'dow_7']"
   ]
  },
  {
   "cell_type": "code",
   "execution_count": null,
   "metadata": {
    "colab": {},
    "colab_type": "code",
    "id": "YgRWl2TTdyca"
   },
   "outputs": [],
   "source": [
    "X_train_full = train[features]\n",
    "y_train_full = train[targets]\n",
    "X_valid = valid[features]\n",
    "y_valid = valid[targets]\n",
    "X_test = test[features]\n",
    "y_test = test[targets]\n",
    "X_test_final = test_final[features]\n",
    "y_test_final = test_final[targets]"
   ]
  },
  {
   "cell_type": "code",
   "execution_count": 105,
   "metadata": {
    "colab": {
     "base_uri": "https://localhost:8080/",
     "height": 222
    },
    "colab_type": "code",
    "executionInfo": {
     "elapsed": 2794,
     "status": "ok",
     "timestamp": 1563846597602,
     "user": {
      "displayName": "Cloud Machine",
      "photoUrl": "",
      "userId": "03543453517966682716"
     },
     "user_tz": -60
    },
    "id": "5z_cJhjudycc",
    "outputId": "3762f240-9991-4a98-b1fd-1902c19046dc"
   },
   "outputs": [
    {
     "data": {
      "text/html": [
       "<div>\n",
       "<style scoped>\n",
       "    .dataframe tbody tr th:only-of-type {\n",
       "        vertical-align: middle;\n",
       "    }\n",
       "\n",
       "    .dataframe tbody tr th {\n",
       "        vertical-align: top;\n",
       "    }\n",
       "\n",
       "    .dataframe thead th {\n",
       "        text-align: right;\n",
       "    }\n",
       "</style>\n",
       "<table border=\"1\" class=\"dataframe\">\n",
       "  <thead>\n",
       "    <tr style=\"text-align: right;\">\n",
       "      <th></th>\n",
       "      <th>tot_dow_1</th>\n",
       "      <th>tot_dow_2</th>\n",
       "      <th>tot_dow_3</th>\n",
       "      <th>tot_dow_4</th>\n",
       "      <th>tot_dow_5</th>\n",
       "      <th>tot_dow_6</th>\n",
       "      <th>tot_dow_7</th>\n",
       "      <th>prop_dow_0</th>\n",
       "      <th>prop_dow_1</th>\n",
       "      <th>prop_dow_2</th>\n",
       "      <th>prop_dow_3</th>\n",
       "      <th>prop_dow_4</th>\n",
       "      <th>prop_dow_5</th>\n",
       "      <th>prop_dow_6</th>\n",
       "      <th>prop_dow_7</th>\n",
       "      <th>weeks_since_prev_visit</th>\n",
       "    </tr>\n",
       "  </thead>\n",
       "  <tbody>\n",
       "    <tr>\n",
       "      <th>11645479</th>\n",
       "      <td>12.0</td>\n",
       "      <td>1.0</td>\n",
       "      <td>11.0</td>\n",
       "      <td>1.0</td>\n",
       "      <td>4.0</td>\n",
       "      <td>36.0</td>\n",
       "      <td>18.0</td>\n",
       "      <td>0.450331</td>\n",
       "      <td>0.144578</td>\n",
       "      <td>0.012048</td>\n",
       "      <td>0.132530</td>\n",
       "      <td>0.012048</td>\n",
       "      <td>0.048193</td>\n",
       "      <td>0.433735</td>\n",
       "      <td>0.216867</td>\n",
       "      <td>4.0</td>\n",
       "    </tr>\n",
       "    <tr>\n",
       "      <th>11645480</th>\n",
       "      <td>13.0</td>\n",
       "      <td>1.0</td>\n",
       "      <td>11.0</td>\n",
       "      <td>1.0</td>\n",
       "      <td>4.0</td>\n",
       "      <td>36.0</td>\n",
       "      <td>18.0</td>\n",
       "      <td>0.447368</td>\n",
       "      <td>0.154762</td>\n",
       "      <td>0.011905</td>\n",
       "      <td>0.130952</td>\n",
       "      <td>0.011905</td>\n",
       "      <td>0.047619</td>\n",
       "      <td>0.428571</td>\n",
       "      <td>0.214286</td>\n",
       "      <td>1.0</td>\n",
       "    </tr>\n",
       "    <tr>\n",
       "      <th>11645481</th>\n",
       "      <td>13.0</td>\n",
       "      <td>1.0</td>\n",
       "      <td>12.0</td>\n",
       "      <td>1.0</td>\n",
       "      <td>4.0</td>\n",
       "      <td>36.0</td>\n",
       "      <td>18.0</td>\n",
       "      <td>0.444444</td>\n",
       "      <td>0.152941</td>\n",
       "      <td>0.011765</td>\n",
       "      <td>0.141176</td>\n",
       "      <td>0.011765</td>\n",
       "      <td>0.047059</td>\n",
       "      <td>0.423529</td>\n",
       "      <td>0.211765</td>\n",
       "      <td>1.0</td>\n",
       "    </tr>\n",
       "    <tr>\n",
       "      <th>11645482</th>\n",
       "      <td>13.0</td>\n",
       "      <td>1.0</td>\n",
       "      <td>12.0</td>\n",
       "      <td>1.0</td>\n",
       "      <td>4.0</td>\n",
       "      <td>36.0</td>\n",
       "      <td>18.0</td>\n",
       "      <td>0.448052</td>\n",
       "      <td>0.152941</td>\n",
       "      <td>0.011765</td>\n",
       "      <td>0.141176</td>\n",
       "      <td>0.011765</td>\n",
       "      <td>0.047059</td>\n",
       "      <td>0.423529</td>\n",
       "      <td>0.211765</td>\n",
       "      <td>2.0</td>\n",
       "    </tr>\n",
       "    <tr>\n",
       "      <th>11645483</th>\n",
       "      <td>13.0</td>\n",
       "      <td>1.0</td>\n",
       "      <td>12.0</td>\n",
       "      <td>2.0</td>\n",
       "      <td>4.0</td>\n",
       "      <td>37.0</td>\n",
       "      <td>18.0</td>\n",
       "      <td>0.442308</td>\n",
       "      <td>0.149425</td>\n",
       "      <td>0.011494</td>\n",
       "      <td>0.137931</td>\n",
       "      <td>0.022989</td>\n",
       "      <td>0.045977</td>\n",
       "      <td>0.425287</td>\n",
       "      <td>0.206897</td>\n",
       "      <td>1.0</td>\n",
       "    </tr>\n",
       "  </tbody>\n",
       "</table>\n",
       "</div>"
      ],
      "text/plain": [
       "          tot_dow_1  tot_dow_2  tot_dow_3  tot_dow_4  tot_dow_5  tot_dow_6  \\\n",
       "11645479       12.0        1.0       11.0        1.0        4.0       36.0   \n",
       "11645480       13.0        1.0       11.0        1.0        4.0       36.0   \n",
       "11645481       13.0        1.0       12.0        1.0        4.0       36.0   \n",
       "11645482       13.0        1.0       12.0        1.0        4.0       36.0   \n",
       "11645483       13.0        1.0       12.0        2.0        4.0       37.0   \n",
       "\n",
       "          tot_dow_7  prop_dow_0  prop_dow_1  prop_dow_2  prop_dow_3  \\\n",
       "11645479       18.0    0.450331    0.144578    0.012048    0.132530   \n",
       "11645480       18.0    0.447368    0.154762    0.011905    0.130952   \n",
       "11645481       18.0    0.444444    0.152941    0.011765    0.141176   \n",
       "11645482       18.0    0.448052    0.152941    0.011765    0.141176   \n",
       "11645483       18.0    0.442308    0.149425    0.011494    0.137931   \n",
       "\n",
       "          prop_dow_4  prop_dow_5  prop_dow_6  prop_dow_7  \\\n",
       "11645479    0.012048    0.048193    0.433735    0.216867   \n",
       "11645480    0.011905    0.047619    0.428571    0.214286   \n",
       "11645481    0.011765    0.047059    0.423529    0.211765   \n",
       "11645482    0.011765    0.047059    0.423529    0.211765   \n",
       "11645483    0.022989    0.045977    0.425287    0.206897   \n",
       "\n",
       "          weeks_since_prev_visit  \n",
       "11645479                     4.0  \n",
       "11645480                     1.0  \n",
       "11645481                     1.0  \n",
       "11645482                     2.0  \n",
       "11645483                     1.0  "
      ]
     },
     "metadata": {
      "tags": []
     },
     "output_type": "display_data"
    }
   ],
   "source": [
    "display_all(X_train_full.tail())"
   ]
  },
  {
   "cell_type": "code",
   "execution_count": 106,
   "metadata": {
    "colab": {
     "base_uri": "https://localhost:8080/",
     "height": 202
    },
    "colab_type": "code",
    "executionInfo": {
     "elapsed": 2761,
     "status": "ok",
     "timestamp": 1563846597610,
     "user": {
      "displayName": "Cloud Machine",
      "photoUrl": "",
      "userId": "03543453517966682716"
     },
     "user_tz": -60
    },
    "id": "duFi-LKgdycf",
    "outputId": "55479b52-8038-4602-8192-4c2b19c7e8c3"
   },
   "outputs": [
    {
     "data": {
      "text/html": [
       "<div>\n",
       "<style scoped>\n",
       "    .dataframe tbody tr th:only-of-type {\n",
       "        vertical-align: middle;\n",
       "    }\n",
       "\n",
       "    .dataframe tbody tr th {\n",
       "        vertical-align: top;\n",
       "    }\n",
       "\n",
       "    .dataframe thead th {\n",
       "        text-align: right;\n",
       "    }\n",
       "</style>\n",
       "<table border=\"1\" class=\"dataframe\">\n",
       "  <thead>\n",
       "    <tr style=\"text-align: right;\">\n",
       "      <th></th>\n",
       "      <th>dow_0</th>\n",
       "      <th>dow_1</th>\n",
       "      <th>dow_2</th>\n",
       "      <th>dow_3</th>\n",
       "      <th>dow_4</th>\n",
       "      <th>dow_5</th>\n",
       "      <th>dow_6</th>\n",
       "      <th>dow_7</th>\n",
       "    </tr>\n",
       "  </thead>\n",
       "  <tbody>\n",
       "    <tr>\n",
       "      <th>11645479</th>\n",
       "      <td>0</td>\n",
       "      <td>1</td>\n",
       "      <td>0</td>\n",
       "      <td>0</td>\n",
       "      <td>0</td>\n",
       "      <td>0</td>\n",
       "      <td>0</td>\n",
       "      <td>0</td>\n",
       "    </tr>\n",
       "    <tr>\n",
       "      <th>11645480</th>\n",
       "      <td>0</td>\n",
       "      <td>0</td>\n",
       "      <td>0</td>\n",
       "      <td>1</td>\n",
       "      <td>0</td>\n",
       "      <td>0</td>\n",
       "      <td>0</td>\n",
       "      <td>0</td>\n",
       "    </tr>\n",
       "    <tr>\n",
       "      <th>11645481</th>\n",
       "      <td>1</td>\n",
       "      <td>0</td>\n",
       "      <td>0</td>\n",
       "      <td>0</td>\n",
       "      <td>0</td>\n",
       "      <td>0</td>\n",
       "      <td>0</td>\n",
       "      <td>0</td>\n",
       "    </tr>\n",
       "    <tr>\n",
       "      <th>11645482</th>\n",
       "      <td>0</td>\n",
       "      <td>0</td>\n",
       "      <td>0</td>\n",
       "      <td>0</td>\n",
       "      <td>1</td>\n",
       "      <td>0</td>\n",
       "      <td>1</td>\n",
       "      <td>0</td>\n",
       "    </tr>\n",
       "    <tr>\n",
       "      <th>11645483</th>\n",
       "      <td>0</td>\n",
       "      <td>0</td>\n",
       "      <td>0</td>\n",
       "      <td>0</td>\n",
       "      <td>0</td>\n",
       "      <td>0</td>\n",
       "      <td>1</td>\n",
       "      <td>0</td>\n",
       "    </tr>\n",
       "  </tbody>\n",
       "</table>\n",
       "</div>"
      ],
      "text/plain": [
       "          dow_0  dow_1  dow_2  dow_3  dow_4  dow_5  dow_6  dow_7\n",
       "11645479      0      1      0      0      0      0      0      0\n",
       "11645480      0      0      0      1      0      0      0      0\n",
       "11645481      1      0      0      0      0      0      0      0\n",
       "11645482      0      0      0      0      1      0      1      0\n",
       "11645483      0      0      0      0      0      0      1      0"
      ]
     },
     "execution_count": 106,
     "metadata": {
      "tags": []
     },
     "output_type": "execute_result"
    }
   ],
   "source": [
    "y_train_full.tail()"
   ]
  },
  {
   "cell_type": "markdown",
   "metadata": {
    "colab_type": "text",
    "id": "Eqt8vY_odycj"
   },
   "source": [
    "### Stardardize feature set"
   ]
  },
  {
   "cell_type": "code",
   "execution_count": null,
   "metadata": {
    "colab": {},
    "colab_type": "code",
    "id": "ZMuABKSUdyck"
   },
   "outputs": [],
   "source": [
    "from sklearn.preprocessing import StandardScaler\n",
    "\n",
    "sample_index = X_train_full.sample(vali).index\n",
    "\n",
    "#X_train = X_train_full.loc[sample_index]\n",
    "#y_train = y_train_full.loc[sample_index]\n",
    "\n",
    "X_train = X_train_full\n",
    "y_train = y_train_full\n",
    "\n",
    "scaler = StandardScaler()\n",
    "X_train = pd.DataFrame(scaler.fit_transform(X_train), columns = X_train.columns)\n",
    "X_valid = scaler.transform(X_valid)\n",
    "X_test = scaler.transform(X_test)\n",
    "X_test_final = scaler.transform(X_test_final)"
   ]
  },
  {
   "cell_type": "markdown",
   "metadata": {
    "colab_type": "text",
    "id": "fAfZh86edyco"
   },
   "source": [
    "### Check feature set correlations\n",
    "\n",
    "We removed tot_dow_0 and freq because they are highly correlated to prop_dow_0. RF's are actually very good at handling multicolinearity because of the max_features argument so we probably didn't need to do this. However, if other models are tried in the future. It is better to not have these features together."
   ]
  },
  {
   "cell_type": "code",
   "execution_count": null,
   "metadata": {
    "colab": {},
    "colab_type": "code",
    "id": "Ib2M7ATZdyct"
   },
   "outputs": [],
   "source": [
    "import scipy\n",
    "import matplotlib.pyplot as plt\n",
    "from scipy.cluster import hierarchy as hc"
   ]
  },
  {
   "cell_type": "code",
   "execution_count": 109,
   "metadata": {
    "colab": {
     "base_uri": "https://localhost:8080/",
     "height": 616
    },
    "colab_type": "code",
    "executionInfo": {
     "elapsed": 7159,
     "status": "ok",
     "timestamp": 1563846602147,
     "user": {
      "displayName": "Cloud Machine",
      "photoUrl": "",
      "userId": "03543453517966682716"
     },
     "user_tz": -60
    },
    "id": "_QZnwCCqdycv",
    "outputId": "baf8ca31-4efb-408c-d5dd-ea91d222f677"
   },
   "outputs": [
    {
     "data": {
      "image/png": "[encoded data removed]",
      "text/plain": [
       "<Figure size 1152x720 with 1 Axes>"
      ]
     },
     "metadata": {
      "tags": []
     },
     "output_type": "display_data"
    }
   ],
   "source": [
    "corr = np.round(scipy.stats.spearmanr(X_train).correlation, 4)\n",
    "corr_condensed = hc.distance.squareform(1-corr)\n",
    "z = hc.linkage(corr_condensed, method='average')\n",
    "fig = plt.figure(figsize=(16,10))\n",
    "dendrogram = hc.dendrogram(z, labels=X_train.columns, orientation='left', leaf_font_size=16)\n",
    "plt.show()"
   ]
  },
  {
   "cell_type": "code",
   "execution_count": 110,
   "metadata": {
    "colab": {
     "base_uri": "https://localhost:8080/",
     "height": 670
    },
    "colab_type": "code",
    "executionInfo": {
     "elapsed": 9017,
     "status": "ok",
     "timestamp": 1563846604054,
     "user": {
      "displayName": "Cloud Machine",
      "photoUrl": "",
      "userId": "03543453517966682716"
     },
     "user_tz": -60
    },
    "id": "_PkNhEl6dyc0",
    "outputId": "208dfcd7-571a-4015-8cee-3992df705afa"
   },
   "outputs": [
    {
     "data": {
      "text/plain": [
       "<matplotlib.axes._subplots.AxesSubplot at 0x7fc00c884f28>"
      ]
     },
     "execution_count": 110,
     "metadata": {
      "tags": []
     },
     "output_type": "execute_result"
    },
    {
     "data": {
      "image/png": "[encoded data removed]",
      "text/plain": [
       "<Figure size 720x720 with 2 Axes>"
      ]
     },
     "metadata": {
      "tags": []
     },
     "output_type": "display_data"
    }
   ],
   "source": [
    "import seaborn as sns \n",
    "correlation = X_train.corr()  \n",
    "plt.figure(figsize=(10, 10))  \n",
    "sns.heatmap(correlation, vmax=1, square=True, annot=True, cmap='cubehelix')  "
   ]
  },
  {
   "cell_type": "code",
   "execution_count": 111,
   "metadata": {
    "colab": {
     "base_uri": "https://localhost:8080/",
     "height": 1000,
     "output_embedded_package_id": "1V7rM7ZVUmJsDVxBE3XIIRsSNfvXRNnt5"
    },
    "colab_type": "code",
    "executionInfo": {
     "elapsed": 83047,
     "status": "ok",
     "timestamp": 1563846678129,
     "user": {
      "displayName": "Cloud Machine",
      "photoUrl": "",
      "userId": "03543453517966682716"
     },
     "user_tz": -60
    },
    "id": "dH0It66Kdyc5",
    "outputId": "2e531f44-2eac-4511-b61e-2e36fbdb9062"
   },
   "outputs": [
    {
     "data": {
      "text/plain": [
       "Output hidden; open in https://colab.research.google.com to view."
      ]
     },
     "metadata": {},
     "output_type": "display_data"
    }
   ],
   "source": [
    "%matplotlib inline\n",
    "# take a 5% sample as this is computationally expensive\n",
    "df_sample = X_train.sample(frac=0.01)  \n",
    "# Pairwise plots\n",
    "sns.pairplot(df_sample)  "
   ]
  },
  {
   "cell_type": "markdown",
   "metadata": {
    "colab_type": "text",
    "id": "u0G-XJujdydA"
   },
   "source": [
    "## Model Building\n",
    "\n",
    "We will be looking at scores all the time to compare different parameter settings so it is much easier to wrap this in a function"
   ]
  },
  {
   "cell_type": "code",
   "execution_count": null,
   "metadata": {
    "colab": {},
    "colab_type": "code",
    "id": "phdAd6mtdydD"
   },
   "outputs": [],
   "source": [
    "import math\n",
    "def rmse(x,y): return math.sqrt(((x-y)**2).mean())\n",
    "\n",
    "from sklearn import metrics\n",
    "\n",
    "def print_score(m, dow):\n",
    "    res = [rmse(m.predict(X_train), y_train[dow]), \n",
    "           rmse(m.predict(X_valid), y_valid[dow]),\n",
    "           m.score(X_train, y_train[dow]), \n",
    "           m.score(X_valid, y_valid[dow])]\n",
    "    if hasattr(m, 'oob_score_'): res.append(m.oob_score_)\n",
    "    print(res)"
   ]
  },
  {
   "cell_type": "markdown",
   "metadata": {
    "colab_type": "text",
    "id": "4PBqYvMPdydV"
   },
   "source": [
    "## Random Forest"
   ]
  },
  {
   "cell_type": "code",
   "execution_count": null,
   "metadata": {
    "colab": {},
    "colab_type": "code",
    "id": "L6K7Zkg5dydW"
   },
   "outputs": [],
   "source": [
    "from sklearn.ensemble import RandomForestClassifier\n",
    "from sklearn.ensemble import forest\n"
   ]
  },
  {
   "cell_type": "code",
   "execution_count": 114,
   "metadata": {
    "colab": {
     "base_uri": "https://localhost:8080/",
     "height": 52
    },
    "colab_type": "code",
    "executionInfo": {
     "elapsed": 83006,
     "status": "ok",
     "timestamp": 1563846678199,
     "user": {
      "displayName": "Cloud Machine",
      "photoUrl": "",
      "userId": "03543453517966682716"
     },
     "user_tz": -60
    },
    "id": "nocc-8I4dyda",
    "outputId": "c6347728-5a36-4bdb-862a-68d2bde6de7c"
   },
   "outputs": [
    {
     "name": "stdout",
     "output_type": "stream",
     "text": [
      "(912527, 16)\n",
      "(912527, 8)\n"
     ]
    }
   ],
   "source": [
    "print(X_train.shape)\n",
    "print(y_train.shape)"
   ]
  },
  {
   "cell_type": "code",
   "execution_count": 115,
   "metadata": {
    "colab": {
     "base_uri": "https://localhost:8080/",
     "height": 52
    },
    "colab_type": "code",
    "executionInfo": {
     "elapsed": 82976,
     "status": "ok",
     "timestamp": 1563846678205,
     "user": {
      "displayName": "Cloud Machine",
      "photoUrl": "",
      "userId": "03543453517966682716"
     },
     "user_tz": -60
    },
    "id": "i4oaAUdxdyde",
    "outputId": "9eb9cc9c-9607-4612-96ae-311120133a4c"
   },
   "outputs": [
    {
     "data": {
      "text/plain": [
       "array([130, 131, 132, 133, 134, 135, 136, 137, 138, 139, 140],\n",
       "      dtype=uint64)"
      ]
     },
     "execution_count": 115,
     "metadata": {
      "tags": []
     },
     "output_type": "execute_result"
    }
   ],
   "source": [
    "train.week_number.unique()"
   ]
  },
  {
   "cell_type": "markdown",
   "metadata": {
    "colab_type": "text",
    "id": "4IbUvWzUdydh"
   },
   "source": [
    "Setting the subsampling parameter in RF's will help reduce overfitting and increase training time "
   ]
  },
  {
   "cell_type": "code",
   "execution_count": null,
   "metadata": {
    "colab": {},
    "colab_type": "code",
    "id": "ybC7IRxUdydj"
   },
   "outputs": [],
   "source": [
    "def set_rf_samples(n):\n",
    "    \"\"\" Changes Scikit learn's random forests to give each tree a random sample of\n",
    "    n random rows.\n",
    "    \"\"\"\n",
    "    forest._generate_sample_indices = (lambda rs, n_samples:\n",
    "        forest.check_random_state(rs).randint(0, n_samples, n))"
   ]
  },
  {
   "cell_type": "markdown",
   "metadata": {
    "colab_type": "text",
    "id": "anc7Hjvldydn"
   },
   "source": [
    "I tried a couple of settings for each random forest parameter and found below performed the best. We could probably spend some more time tuning to get slightly better results."
   ]
  },
  {
   "cell_type": "code",
   "execution_count": null,
   "metadata": {
    "colab": {},
    "colab_type": "code",
    "id": "z4koExx5dydo"
   },
   "outputs": [],
   "source": [
    "set_rf_samples(vali)"
   ]
  },
  {
   "cell_type": "code",
   "execution_count": 118,
   "metadata": {
    "colab": {
     "base_uri": "https://localhost:8080/",
     "height": 69
    },
    "colab_type": "code",
    "executionInfo": {
     "elapsed": 173458,
     "status": "ok",
     "timestamp": 1563846768783,
     "user": {
      "displayName": "Cloud Machine",
      "photoUrl": "",
      "userId": "03543453517966682716"
     },
     "user_tz": -60
    },
    "id": "f_I0vYKZdydq",
    "outputId": "00086780-4795-4ab5-e56a-a1377f11ca7f"
   },
   "outputs": [
    {
     "name": "stdout",
     "output_type": "stream",
     "text": [
      "[0.25439103262490403, 0.2604425497743139, 0.935285202520035, 0.932169678267054, 0.93271760725984]\n",
      "CPU times: user 2min 47s, sys: 2.78 s, total: 2min 50s\n",
      "Wall time: 1min 36s\n"
     ]
    }
   ],
   "source": [
    "%%time\n",
    "target = 'dow_1'\n",
    "rf_classifier = forest.RandomForestClassifier(n_estimators = 80, \n",
    "                                       max_features=0.1, \n",
    "                                       min_samples_leaf=3, \n",
    "                                       n_jobs = -1, \n",
    "                                       oob_score=True, \n",
    "                                       class_weight='balanced'\n",
    "                                      )\n",
    "rf_classifier.fit(X_train, y_train[target])\n",
    "print_score(rf_classifier, target)"
   ]
  },
  {
   "cell_type": "markdown",
   "metadata": {
    "colab_type": "text",
    "id": "-b-EAaLtdydv"
   },
   "source": [
    "It takes around 3 min for 1 model. So doing all 7 will take around 20 min"
   ]
  },
  {
   "cell_type": "code",
   "execution_count": 119,
   "metadata": {
    "colab": {
     "base_uri": "https://localhost:8080/",
     "height": 34
    },
    "colab_type": "code",
    "executionInfo": {
     "elapsed": 175290,
     "status": "ok",
     "timestamp": 1563846770643,
     "user": {
      "displayName": "Cloud Machine",
      "photoUrl": "",
      "userId": "03543453517966682716"
     },
     "user_tz": -60
    },
    "id": "2Qq4OYsAdydx",
    "outputId": "19ad411f-3655-4297-b80c-bb6d3c26910f"
   },
   "outputs": [
    {
     "data": {
      "text/plain": [
       "0.5352327823867115"
      ]
     },
     "execution_count": 119,
     "metadata": {
      "tags": []
     },
     "output_type": "execute_result"
    }
   ],
   "source": [
    "probs = pd.DataFrame(rf_classifier.predict_proba(X_test))\n",
    "rf_roc_auc = metrics.roc_auc_score(y_test, probs) \n",
    "rf_roc_auc"
   ]
  },
  {
   "cell_type": "code",
   "execution_count": 120,
   "metadata": {
    "colab": {
     "base_uri": "https://localhost:8080/",
     "height": 104
    },
    "colab_type": "code",
    "executionInfo": {
     "elapsed": 176860,
     "status": "ok",
     "timestamp": 1563846772242,
     "user": {
      "displayName": "Cloud Machine",
      "photoUrl": "",
      "userId": "03543453517966682716"
     },
     "user_tz": -60
    },
    "id": "OyLFdbSXdyd1",
    "outputId": "683121c7-1877-406c-8918-ae6f3d463dd6"
   },
   "outputs": [
    {
     "data": {
      "text/plain": [
       "array([[0.83233452, 0.16766548],\n",
       "       [0.8263685 , 0.1736315 ],\n",
       "       [0.89115739, 0.10884261],\n",
       "       [0.84956829, 0.15043171],\n",
       "       [0.89210403, 0.10789597]])"
      ]
     },
     "execution_count": 120,
     "metadata": {
      "tags": []
     },
     "output_type": "execute_result"
    }
   ],
   "source": [
    "rf_classifier.predict_proba(X_test)[0:5]"
   ]
  },
  {
   "cell_type": "code",
   "execution_count": 121,
   "metadata": {
    "colab": {
     "base_uri": "https://localhost:8080/",
     "height": 34
    },
    "colab_type": "code",
    "executionInfo": {
     "elapsed": 178826,
     "status": "ok",
     "timestamp": 1563846774240,
     "user": {
      "displayName": "Cloud Machine",
      "photoUrl": "",
      "userId": "03543453517966682716"
     },
     "user_tz": -60
    },
    "id": "5Q5Qzc-Hdyd9",
    "outputId": "f00199a0-ba3d-428f-cc49-b842a16bfe25"
   },
   "outputs": [
    {
     "data": {
      "text/plain": [
       "array([0, 0, 0, ..., 0, 0, 0], dtype=uint8)"
      ]
     },
     "execution_count": 121,
     "metadata": {
      "tags": []
     },
     "output_type": "execute_result"
    }
   ],
   "source": [
    "rf_pred = rf_classifier.predict(X_test)\n",
    "rf_pred"
   ]
  },
  {
   "cell_type": "code",
   "execution_count": 122,
   "metadata": {
    "colab": {
     "base_uri": "https://localhost:8080/",
     "height": 69
    },
    "colab_type": "code",
    "executionInfo": {
     "elapsed": 178799,
     "status": "ok",
     "timestamp": 1563846774245,
     "user": {
      "displayName": "Cloud Machine",
      "photoUrl": "",
      "userId": "03543453517966682716"
     },
     "user_tz": -60
    },
    "id": "nmEDd2vEdyeI",
    "outputId": "204ad2ab-8a3a-460c-f757-944b60dd4adf"
   },
   "outputs": [
    {
     "name": "stdout",
     "output_type": "stream",
     "text": [
      "0.9342189327000735\n",
      "[[77500     3]\n",
      " [ 5454     0]]\n"
     ]
    }
   ],
   "source": [
    "from sklearn.metrics import accuracy_score\n",
    "from sklearn.metrics import confusion_matrix\n",
    "print(accuracy_score(y_test[target], rf_pred))\n",
    "cm = confusion_matrix(y_test[target], rf_pred) \n",
    "print(cm)"
   ]
  },
  {
   "cell_type": "code",
   "execution_count": null,
   "metadata": {
    "colab": {},
    "colab_type": "code",
    "id": "ZPJcRWr5dyeU"
   },
   "outputs": [],
   "source": [
    "def get_feature_importance(m):\n",
    "    feats = {} # a dict to hold feature_name: feature_importance\n",
    "    for feature, importance in zip(features, m.feature_importances_):\n",
    "        feats[feature] = importance #add the name/value pair \n",
    "\n",
    "    importances = pd.DataFrame.from_dict(feats, orient='index').rename(columns={0: 'Importance'})\n",
    "    importances = importances.sort_values(by='Importance')\n",
    "    return importances"
   ]
  },
  {
   "cell_type": "code",
   "execution_count": 124,
   "metadata": {
    "colab": {
     "base_uri": "https://localhost:8080/",
     "height": 449
    },
    "colab_type": "code",
    "executionInfo": {
     "elapsed": 179229,
     "status": "ok",
     "timestamp": 1563846774742,
     "user": {
      "displayName": "Cloud Machine",
      "photoUrl": "",
      "userId": "03543453517966682716"
     },
     "user_tz": -60
    },
    "id": "xiYlGlLOdyeW",
    "outputId": "38f49434-6ed6-4fc1-ad04-abf88172d18b"
   },
   "outputs": [
    {
     "data": {
      "text/plain": [
       "<matplotlib.axes._subplots.AxesSubplot at 0x7fc0095f1c88>"
      ]
     },
     "execution_count": 124,
     "metadata": {
      "tags": []
     },
     "output_type": "execute_result"
    },
    {
     "data": {
      "image/png": "[encoded data removed]",
      "text/plain": [
       "<Figure size 864x504 with 1 Axes>"
      ]
     },
     "metadata": {
      "tags": []
     },
     "output_type": "display_data"
    }
   ],
   "source": [
    "get_feature_importance(rf_classifier).plot(kind='barh', figsize=(12,7))"
   ]
  },
  {
   "cell_type": "markdown",
   "metadata": {
    "colab_type": "text",
    "id": "lFV1rPNGdyeZ"
   },
   "source": [
    "### Now we do for all"
   ]
  },
  {
   "cell_type": "code",
   "execution_count": null,
   "metadata": {
    "colab": {
     "base_uri": "https://localhost:8080/",
     "height": 156
    },
    "colab_type": "code",
    "id": "mw_ap6JEdyea",
    "outputId": "61ebdacf-309c-4a97-fdb1-8fa1b2a093df"
   },
   "outputs": [
    {
     "name": "stdout",
     "output_type": "stream",
     "text": [
      "dow_0\n",
      "[0.43887876992631636, 0.6542392367235172, 0.8073854253079635, 0.5719710211314295, 0.5445515584744341]\n",
      "dow_1\n",
      "[0.2545525227313272, 0.26041940652552126, 0.9352030131711171, 0.9321817327048953, 0.9326715812244459]\n",
      "dow_2\n",
      "[0.251610245869461, 0.2572993832568816, 0.9366922841735094, 0.9337970273756283, 0.9324885729408554]\n",
      "dow_3\n",
      "[0.24729628129599387, 0.25340479549637296, 0.9388445492571726, 0.9357860096194414, 0.9365991362447358]\n"
     ]
    }
   ],
   "source": [
    "rf_models = {}\n",
    "\n",
    "for target in targets:\n",
    "    rf_classifier = forest.RandomForestClassifier(n_estimators = 80, \n",
    "                                           max_features=0.1, \n",
    "                                           min_samples_leaf=3, \n",
    "                                           n_jobs = -1, \n",
    "                                           oob_score=True, \n",
    "                                           class_weight='balanced')\n",
    "    rf_classifier.fit(X_train, y_train[target])\n",
    "    print(target)\n",
    "    print_score(rf_classifier, target)\n",
    "    rf_models[target] = rf_classifier  "
   ]
  },
  {
   "cell_type": "code",
   "execution_count": null,
   "metadata": {
    "colab": {},
    "colab_type": "code",
    "id": "xASk8IuEdyef"
   },
   "outputs": [],
   "source": [
    "rf_models"
   ]
  },
  {
   "cell_type": "code",
   "execution_count": null,
   "metadata": {
    "colab": {},
    "colab_type": "code",
    "id": "fNg8Y9CIdyej"
   },
   "outputs": [],
   "source": [
    "for dow, m in rf_models.items():\n",
    "    get_feature_importance(m).plot(kind='barh', figsize=(12,5), title=dow) "
   ]
  },
  {
   "cell_type": "code",
   "execution_count": null,
   "metadata": {
    "colab": {},
    "colab_type": "code",
    "id": "MbLa0BfUdyem"
   },
   "outputs": [],
   "source": [
    "train_probs = pd.DataFrame(columns=targets) \n",
    "valid_probs = pd.DataFrame(columns=targets)\n",
    "test_probs = pd.DataFrame(columns=targets)\n",
    "test_final_probs = pd.DataFrame(columns=targets)\n",
    "\n",
    "for target in targets:\n",
    "    # Compute probability of observation being in the origin.\n",
    "    train_probs[target] = rf_models[target].predict_proba(X_train)[:,1]\n",
    "    valid_probs[target] = rf_models[target].predict_proba(X_valid)[:,1]\n",
    "    test_probs[target] = rf_models[target].predict_proba(X_test)[:,1]\n",
    "    test_final_probs[target] = rf_models[target].predict_proba(X_test)[:,1]    "
   ]
  },
  {
   "cell_type": "markdown",
   "metadata": {
    "colab_type": "text",
    "id": "YtF1LIQ6dyeo"
   },
   "source": [
    "### Tableau dataset"
   ]
  },
  {
   "cell_type": "code",
   "execution_count": null,
   "metadata": {
    "colab": {},
    "colab_type": "code",
    "id": "Cxb6crPIdyep"
   },
   "outputs": [],
   "source": [
    "train_viz = pd.concat([train.reset_index(drop=True), train_probs], axis=1)\n",
    "valid_viz = pd.concat([valid.reset_index(drop=True), valid_probs], axis=1)\n",
    "test_viz = pd.concat([test.reset_index(drop=True), test_probs], axis=1)\n",
    "test_final_viz = pd.concat([test_final.reset_index(drop=True), test_final_probs], axis=1)"
   ]
  },
  {
   "cell_type": "code",
   "execution_count": null,
   "metadata": {
    "colab": {},
    "colab_type": "code",
    "id": "Ypv8ghe5dyex"
   },
   "outputs": [],
   "source": [
    "train_viz['set'] = 'train'\n",
    "valid_viz['set'] = 'valid'\n",
    "test_viz['set'] = 'test'\n",
    "test_final_viz['set'] = 'test_final'"
   ]
  },
  {
   "cell_type": "code",
   "execution_count": null,
   "metadata": {
    "colab": {},
    "colab_type": "code",
    "id": "-kUd7emQdyez"
   },
   "outputs": [],
   "source": [
    "all_viz = pd.concat([train_viz, valid_viz, test_viz, test_final_viz], axis=0)"
   ]
  },
  {
   "cell_type": "code",
   "execution_count": null,
   "metadata": {
    "colab": {},
    "colab_type": "code",
    "id": "xe5ryXdCdye-"
   },
   "outputs": [],
   "source": [
    "all_viz.shape"
   ]
  },
  {
   "cell_type": "code",
   "execution_count": null,
   "metadata": {
    "colab": {},
    "colab_type": "code",
    "id": "UtLO_to7dyfD"
   },
   "outputs": [],
   "source": [
    "all_viz.to_csv(LOC + 'all_viz.csv', index=False)"
   ]
  },
  {
   "cell_type": "markdown",
   "metadata": {
    "colab_type": "text",
    "id": "Gl7__CqTdyfF"
   },
   "source": [
    "### Check test prediction"
   ]
  },
  {
   "cell_type": "code",
   "execution_count": null,
   "metadata": {
    "colab": {},
    "colab_type": "code",
    "id": "PatZL_cWdyfG"
   },
   "outputs": [],
   "source": [
    "test[features].tail()"
   ]
  },
  {
   "cell_type": "code",
   "execution_count": null,
   "metadata": {
    "colab": {},
    "colab_type": "code",
    "id": "W7GrSp3MdyfK"
   },
   "outputs": [],
   "source": [
    "test[targets].tail()"
   ]
  },
  {
   "cell_type": "code",
   "execution_count": null,
   "metadata": {
    "colab": {},
    "colab_type": "code",
    "id": "oabgNxJFdyfO"
   },
   "outputs": [],
   "source": [
    "test_probs.tail()"
   ]
  },
  {
   "cell_type": "code",
   "execution_count": null,
   "metadata": {
    "colab": {},
    "colab_type": "code",
    "id": "QMtMec7UdyfS"
   },
   "outputs": [],
   "source": [
    "predicted_day = test_probs.idxmax(axis=1)\n",
    "predicted_day.head()"
   ]
  },
  {
   "cell_type": "code",
   "execution_count": null,
   "metadata": {
    "colab": {},
    "colab_type": "code",
    "id": "2nY9grCCdyfX"
   },
   "outputs": [],
   "source": [
    "y_test.reset_index(drop=True).tail()"
   ]
  },
  {
   "cell_type": "markdown",
   "metadata": {
    "colab_type": "text",
    "id": "3QGJEMx2dyfa"
   },
   "source": [
    "## Conclusion"
   ]
  },
  {
   "cell_type": "markdown",
   "metadata": {
    "colab_type": "text",
    "id": "BkVK9I5cdyfb"
   },
   "source": [
    "There are many machine learning algorithms which can be used for classification problems. I decided on using Random forests because they are easy to implement, give feature importance and can be top performers if tuned correctly.\n",
    "\n",
    "We use binary classification models to predict the visit probability for each day of week independantly. Hence, the accuracy for each model varies:\n",
    "- No visits: ~60%\n",
    "- Day 1: Monday: ~90%\n",
    "- Day 2: Tuesday: ~90%\n",
    "- Day 3: Wednesday: ~90%\n",
    "- Day 4: Thursday: ~90%\n",
    "- Day 5: Friday: ~90%\n",
    "- Day 6: Saturday: ~80%\n",
    "- Day 7: Sunday: ~80%\n",
    "\n",
    "Reporting these high classification accuracies can be misleading. For example: Our Day 1 predictions, we get around 90% accuracy because our model is predicting all values will be 0 i.e. no customers are predicted to visit on Monday. Because there are so few monday visits (in comparison to other days and no visits) this is not neccesarily a bad prediction. If our task was to predict Mondays more accurately there are other evaluation criteria we could use to force the model to predict more visits as Monday. However, I decided it would be more important to predict accurately overall and hence left these models as is.\n",
    "\n",
    "To get our final prediction we can predict the day of week which has the highest probability for all 8 models. We could also structure this as a multi-label classification problem and try to correctly predict all visit days in the next week. This decision is dependant on how our model will be used for business applications.\n",
    "\n",
    "As I mention above, random forest give us the feature importance. For every model, the most important feature to predict the day of week was the proportion of days the customer previously visited on that day. This also makes intuitive sense, for example: If a customer has visited the mall a total of 10 times, and 9 out of the 10 times they visit on a Monday, it is reasonable to predict the next time they visit will be on Monday. \n",
    "\n",
    "The other very important feature is the proportion of no visit weeks. Again this makes sense: If we have 2 customers - A and B - Customer A visits at least 1 day a week for 10 weeks while customer B visits only once in 10 weeks. It is reasonable to predict customer A has a higher likelyhood of visiting the next week compared to customer B.\n",
    "\n",
    "- Customer Dash is used to see the predictions for an individual customer (visitor_id). This helps us check whether predictions are reasonable.\n",
    "- Model Feature Dash is used to explore the relationship between the targets (day of week) and features.\n",
    "\n",
    "### Next steps / Further Improvements\n",
    "\n",
    "Our final models are giving reasonable results. However, they are not doing well at predicting rare events. To solve this we will need to do additional feature engineering. We could try other modelling approaches. We should try to collect more metadata like weather on spesific days or whether it was a public holidays / promotions in the mall. \n",
    "\n",
    "Given that there are some time constraints, I unfortunatley didn't have enough time to try many different models or do more feature engineering. I would really like to try using deep learning to solve this classification problem. Deep learning can be really good at solving problems that require a lot of feature engineering.\n",
    "\n",
    "\n"
   ]
  }
 ],
 "metadata": {
  "colab": {
   "collapsed_sections": [
    "HhFN4HuPdyZZ",
    "km5_UC6TdyZl"
   ],
   "name": "Customer Visits.ipynb",
   "provenance": [],
   "version": "0.3.2"
  },
  "kernelspec": {
   "display_name": "Python 3 (ipykernel)",
   "language": "python",
   "name": "python3"
  },
  "language_info": {
   "codemirror_mode": {
    "name": "ipython",
    "version": 3
   },
   "file_extension": ".py",
   "mimetype": "text/x-python",
   "name": "python",
   "nbconvert_exporter": "python",
   "pygments_lexer": "ipython3",
   "version": "3.11.6"
  }
 },
 "nbformat": 4,
 "nbformat_minor": 4
}
